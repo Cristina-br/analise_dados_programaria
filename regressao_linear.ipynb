{
  "nbformat": 4,
  "nbformat_minor": 0,
  "metadata": {
    "colab": {
      "provenance": []
    },
    "kernelspec": {
      "name": "python3",
      "display_name": "Python 3"
    },
    "language_info": {
      "name": "python"
    }
  },
  "cells": [
    {
      "cell_type": "code",
      "execution_count": null,
      "metadata": {
        "id": "_2P9sdxC3AJw"
      },
      "outputs": [],
      "source": [
        "import pandas as pd"
      ]
    },
    {
      "cell_type": "code",
      "source": [
        "dados = pd.read_excel(\"/content/drive/MyDrive/PrograMaria/analise_dados_mod7_(1).xlsx\")"
      ],
      "metadata": {
        "id": "jFlO-SVA3yam"
      },
      "execution_count": null,
      "outputs": []
    },
    {
      "cell_type": "code",
      "source": [
        "dados.head()"
      ],
      "metadata": {
        "colab": {
          "base_uri": "https://localhost:8080/",
          "height": 776
        },
        "id": "xfGhy3hF33tM",
        "outputId": "2dbb2210-b6c8-4807-83e4-453b6622b337"
      },
      "execution_count": null,
      "outputs": [
        {
          "output_type": "execute_result",
          "data": {
            "text/plain": [
              "                                 ID  IDADE FAIXA IDADE     GENERO  \\\n",
              "0  zzqzz3l9ily8nuo2m7wyzzqzz3w48o96   39.0       35-39  Masculino   \n",
              "1  zzls2oftfn9law393oezzls2ofhvfpzd   32.0       30-34  Masculino   \n",
              "2  zzdwqzfqqp1ypc7ps6m0hzzdwqz292yi   53.0       50-54  Masculino   \n",
              "3  zzbqh3uy7yk7k9qmkzzbqtb4s9faqspl   27.0       25-29  Masculino   \n",
              "4  zzaf1m95yan929rb94wzzaf1mekhvhpg   46.0       45-49   Feminino   \n",
              "\n",
              "  COR/RACA/ETNIA  PCD               EXPERIENCIA_PROFISSIONAL_PREJUDICADA  \\\n",
              "0          Parda  Não  Não acredito que minha experiência profissiona...   \n",
              "1          Parda  Não  Sim, acredito que a minha a experiência profis...   \n",
              "2         Branca  Não                                                NaN   \n",
              "3         Branca  Não                                                NaN   \n",
              "4         Branca  Não  Não acredito que minha experiência profissiona...   \n",
              "\n",
              "                          ASPECTOS_PREJUDICADOS  VIVE_NO_BRASIL  \\\n",
              "0                                           NaN            True   \n",
              "1  Aprovação em processos seletivos/entrevistas            True   \n",
              "2                                           NaN            True   \n",
              "3                                           NaN            True   \n",
              "4                                           NaN            True   \n",
              "\n",
              "        ESTADO ONDE MORA  ...  \\\n",
              "0  Distrito Federal (DF)  ...   \n",
              "1              Pará (PA)  ...   \n",
              "2  Distrito Federal (DF)  ...   \n",
              "3      Minas Gerais (MG)  ...   \n",
              "4              Pará (PA)  ...   \n",
              "\n",
              "  Você pretende mudar de emprego nos próximos 6 meses?  \\\n",
              "0  Não estou buscando e não pretendo mudar de emp...     \n",
              "1  Estou em busca de oportunidades dentro ou fora...     \n",
              "2  Não estou buscando, mas me considero aberto a ...     \n",
              "3  Não estou buscando, mas me considero aberto a ...     \n",
              "4  Não estou buscando, mas me considero aberto a ...     \n",
              "\n",
              "  Quais os principais critérios que você leva em consideração no momento de decidir onde trabalhar?  \\\n",
              "0                                         Benefícios                                                  \n",
              "1  Remuneração/Salário, Plano de carreira e oport...                                                  \n",
              "2  Remuneração/Salário, Flexibilidade de trabalho...                                                  \n",
              "3  Remuneração/Salário, Flexibilidade de trabalho...                                                  \n",
              "4  Remuneração/Salário, Oportunidade de aprendiza...                                                  \n",
              "\n",
              "            Atualmente qual a sua forma de trabalho?  \\\n",
              "0                             Modelo 100% presencial   \n",
              "1                             Modelo 100% presencial   \n",
              "2  Modelo híbrido com dias fixos de trabalho pres...   \n",
              "3  Modelo híbrido flexível (o funcionário tem lib...   \n",
              "4                             Modelo 100% presencial   \n",
              "\n",
              "           Qual a forma de trabalho ideal para você?  \\\n",
              "0  Modelo híbrido com dias fixos de trabalho pres...   \n",
              "1  Modelo híbrido flexível (o funcionário tem lib...   \n",
              "2  Modelo híbrido flexível (o funcionário tem lib...   \n",
              "3  Modelo híbrido flexível (o funcionário tem lib...   \n",
              "4                             Modelo 100% presencial   \n",
              "\n",
              "  Caso sua empresa decida pelo modelo 100% presencial qual será sua atitude?  \\\n",
              "0   Vou aceitar e retornar ao modelo 100% presencial                           \n",
              "1   Vou aceitar e retornar ao modelo 100% presencial                           \n",
              "2  Vou procurar outra oportunidade no modelo híbr...                           \n",
              "3  Vou procurar outra oportunidade no modelo híbr...                           \n",
              "4   Vou aceitar e retornar ao modelo 100% presencial                           \n",
              "\n",
              "               Sua empresa passu por Layoff em 2022?  \\\n",
              "0  Não ocorreram layoffs/demissões em massa na em...   \n",
              "1  Não ocorreram layoffs/demissões em massa na em...   \n",
              "2  Não ocorreram layoffs/demissões em massa na em...   \n",
              "3  Não ocorreram layoffs/demissões em massa na em...   \n",
              "4  Não ocorreram layoffs/demissões em massa na em...   \n",
              "\n",
              "                                             Atuacao  \\\n",
              "0                                Engenharia de Dados   \n",
              "1                                             Gestor   \n",
              "2  desenvolve modelos preditivos e algoritmos de ...   \n",
              "3  desenvolve modelos preditivos e algoritmos de ...   \n",
              "4                                      Outra atuação   \n",
              "\n",
              "  Quais das linguagens listadas abaixo você utiliza no trabalho? EM_BUSCA  \\\n",
              "0                                                SQL                  0.0   \n",
              "1                                                NaN                  1.0   \n",
              "2                                                  1                  0.0   \n",
              "3                                                  0                  0.0   \n",
              "4                                                SQL                  0.0   \n",
              "\n",
              "   ABERTO_OPORTUNIDADES  \n",
              "0                   0.0  \n",
              "1                   0.0  \n",
              "2                   1.0  \n",
              "3                   1.0  \n",
              "4                   1.0  \n",
              "\n",
              "[5 rows x 46 columns]"
            ],
            "text/html": [
              "\n",
              "  <div id=\"df-03e42dd0-e988-411d-b6e2-f19cf053d5e3\" class=\"colab-df-container\">\n",
              "    <div>\n",
              "<style scoped>\n",
              "    .dataframe tbody tr th:only-of-type {\n",
              "        vertical-align: middle;\n",
              "    }\n",
              "\n",
              "    .dataframe tbody tr th {\n",
              "        vertical-align: top;\n",
              "    }\n",
              "\n",
              "    .dataframe thead th {\n",
              "        text-align: right;\n",
              "    }\n",
              "</style>\n",
              "<table border=\"1\" class=\"dataframe\">\n",
              "  <thead>\n",
              "    <tr style=\"text-align: right;\">\n",
              "      <th></th>\n",
              "      <th>ID</th>\n",
              "      <th>IDADE</th>\n",
              "      <th>FAIXA IDADE</th>\n",
              "      <th>GENERO</th>\n",
              "      <th>COR/RACA/ETNIA</th>\n",
              "      <th>PCD</th>\n",
              "      <th>EXPERIENCIA_PROFISSIONAL_PREJUDICADA</th>\n",
              "      <th>ASPECTOS_PREJUDICADOS</th>\n",
              "      <th>VIVE_NO_BRASIL</th>\n",
              "      <th>ESTADO ONDE MORA</th>\n",
              "      <th>...</th>\n",
              "      <th>Você pretende mudar de emprego nos próximos 6 meses?</th>\n",
              "      <th>Quais os principais critérios que você leva em consideração no momento de decidir onde trabalhar?</th>\n",
              "      <th>Atualmente qual a sua forma de trabalho?</th>\n",
              "      <th>Qual a forma de trabalho ideal para você?</th>\n",
              "      <th>Caso sua empresa decida pelo modelo 100% presencial qual será sua atitude?</th>\n",
              "      <th>Sua empresa passu por Layoff em 2022?</th>\n",
              "      <th>Atuacao</th>\n",
              "      <th>Quais das linguagens listadas abaixo você utiliza no trabalho?</th>\n",
              "      <th>EM_BUSCA</th>\n",
              "      <th>ABERTO_OPORTUNIDADES</th>\n",
              "    </tr>\n",
              "  </thead>\n",
              "  <tbody>\n",
              "    <tr>\n",
              "      <th>0</th>\n",
              "      <td>zzqzz3l9ily8nuo2m7wyzzqzz3w48o96</td>\n",
              "      <td>39.0</td>\n",
              "      <td>35-39</td>\n",
              "      <td>Masculino</td>\n",
              "      <td>Parda</td>\n",
              "      <td>Não</td>\n",
              "      <td>Não acredito que minha experiência profissiona...</td>\n",
              "      <td>NaN</td>\n",
              "      <td>True</td>\n",
              "      <td>Distrito Federal (DF)</td>\n",
              "      <td>...</td>\n",
              "      <td>Não estou buscando e não pretendo mudar de emp...</td>\n",
              "      <td>Benefícios</td>\n",
              "      <td>Modelo 100% presencial</td>\n",
              "      <td>Modelo híbrido com dias fixos de trabalho pres...</td>\n",
              "      <td>Vou aceitar e retornar ao modelo 100% presencial</td>\n",
              "      <td>Não ocorreram layoffs/demissões em massa na em...</td>\n",
              "      <td>Engenharia de Dados</td>\n",
              "      <td>SQL</td>\n",
              "      <td>0.0</td>\n",
              "      <td>0.0</td>\n",
              "    </tr>\n",
              "    <tr>\n",
              "      <th>1</th>\n",
              "      <td>zzls2oftfn9law393oezzls2ofhvfpzd</td>\n",
              "      <td>32.0</td>\n",
              "      <td>30-34</td>\n",
              "      <td>Masculino</td>\n",
              "      <td>Parda</td>\n",
              "      <td>Não</td>\n",
              "      <td>Sim, acredito que a minha a experiência profis...</td>\n",
              "      <td>Aprovação em processos seletivos/entrevistas</td>\n",
              "      <td>True</td>\n",
              "      <td>Pará (PA)</td>\n",
              "      <td>...</td>\n",
              "      <td>Estou em busca de oportunidades dentro ou fora...</td>\n",
              "      <td>Remuneração/Salário, Plano de carreira e oport...</td>\n",
              "      <td>Modelo 100% presencial</td>\n",
              "      <td>Modelo híbrido flexível (o funcionário tem lib...</td>\n",
              "      <td>Vou aceitar e retornar ao modelo 100% presencial</td>\n",
              "      <td>Não ocorreram layoffs/demissões em massa na em...</td>\n",
              "      <td>Gestor</td>\n",
              "      <td>NaN</td>\n",
              "      <td>1.0</td>\n",
              "      <td>0.0</td>\n",
              "    </tr>\n",
              "    <tr>\n",
              "      <th>2</th>\n",
              "      <td>zzdwqzfqqp1ypc7ps6m0hzzdwqz292yi</td>\n",
              "      <td>53.0</td>\n",
              "      <td>50-54</td>\n",
              "      <td>Masculino</td>\n",
              "      <td>Branca</td>\n",
              "      <td>Não</td>\n",
              "      <td>NaN</td>\n",
              "      <td>NaN</td>\n",
              "      <td>True</td>\n",
              "      <td>Distrito Federal (DF)</td>\n",
              "      <td>...</td>\n",
              "      <td>Não estou buscando, mas me considero aberto a ...</td>\n",
              "      <td>Remuneração/Salário, Flexibilidade de trabalho...</td>\n",
              "      <td>Modelo híbrido com dias fixos de trabalho pres...</td>\n",
              "      <td>Modelo híbrido flexível (o funcionário tem lib...</td>\n",
              "      <td>Vou procurar outra oportunidade no modelo híbr...</td>\n",
              "      <td>Não ocorreram layoffs/demissões em massa na em...</td>\n",
              "      <td>desenvolve modelos preditivos e algoritmos de ...</td>\n",
              "      <td>1</td>\n",
              "      <td>0.0</td>\n",
              "      <td>1.0</td>\n",
              "    </tr>\n",
              "    <tr>\n",
              "      <th>3</th>\n",
              "      <td>zzbqh3uy7yk7k9qmkzzbqtb4s9faqspl</td>\n",
              "      <td>27.0</td>\n",
              "      <td>25-29</td>\n",
              "      <td>Masculino</td>\n",
              "      <td>Branca</td>\n",
              "      <td>Não</td>\n",
              "      <td>NaN</td>\n",
              "      <td>NaN</td>\n",
              "      <td>True</td>\n",
              "      <td>Minas Gerais (MG)</td>\n",
              "      <td>...</td>\n",
              "      <td>Não estou buscando, mas me considero aberto a ...</td>\n",
              "      <td>Remuneração/Salário, Flexibilidade de trabalho...</td>\n",
              "      <td>Modelo híbrido flexível (o funcionário tem lib...</td>\n",
              "      <td>Modelo híbrido flexível (o funcionário tem lib...</td>\n",
              "      <td>Vou procurar outra oportunidade no modelo híbr...</td>\n",
              "      <td>Não ocorreram layoffs/demissões em massa na em...</td>\n",
              "      <td>desenvolve modelos preditivos e algoritmos de ...</td>\n",
              "      <td>0</td>\n",
              "      <td>0.0</td>\n",
              "      <td>1.0</td>\n",
              "    </tr>\n",
              "    <tr>\n",
              "      <th>4</th>\n",
              "      <td>zzaf1m95yan929rb94wzzaf1mekhvhpg</td>\n",
              "      <td>46.0</td>\n",
              "      <td>45-49</td>\n",
              "      <td>Feminino</td>\n",
              "      <td>Branca</td>\n",
              "      <td>Não</td>\n",
              "      <td>Não acredito que minha experiência profissiona...</td>\n",
              "      <td>NaN</td>\n",
              "      <td>True</td>\n",
              "      <td>Pará (PA)</td>\n",
              "      <td>...</td>\n",
              "      <td>Não estou buscando, mas me considero aberto a ...</td>\n",
              "      <td>Remuneração/Salário, Oportunidade de aprendiza...</td>\n",
              "      <td>Modelo 100% presencial</td>\n",
              "      <td>Modelo 100% presencial</td>\n",
              "      <td>Vou aceitar e retornar ao modelo 100% presencial</td>\n",
              "      <td>Não ocorreram layoffs/demissões em massa na em...</td>\n",
              "      <td>Outra atuação</td>\n",
              "      <td>SQL</td>\n",
              "      <td>0.0</td>\n",
              "      <td>1.0</td>\n",
              "    </tr>\n",
              "  </tbody>\n",
              "</table>\n",
              "<p>5 rows × 46 columns</p>\n",
              "</div>\n",
              "    <div class=\"colab-df-buttons\">\n",
              "\n",
              "  <div class=\"colab-df-container\">\n",
              "    <button class=\"colab-df-convert\" onclick=\"convertToInteractive('df-03e42dd0-e988-411d-b6e2-f19cf053d5e3')\"\n",
              "            title=\"Convert this dataframe to an interactive table.\"\n",
              "            style=\"display:none;\">\n",
              "\n",
              "  <svg xmlns=\"http://www.w3.org/2000/svg\" height=\"24px\" viewBox=\"0 -960 960 960\">\n",
              "    <path d=\"M120-120v-720h720v720H120Zm60-500h600v-160H180v160Zm220 220h160v-160H400v160Zm0 220h160v-160H400v160ZM180-400h160v-160H180v160Zm440 0h160v-160H620v160ZM180-180h160v-160H180v160Zm440 0h160v-160H620v160Z\"/>\n",
              "  </svg>\n",
              "    </button>\n",
              "\n",
              "  <style>\n",
              "    .colab-df-container {\n",
              "      display:flex;\n",
              "      gap: 12px;\n",
              "    }\n",
              "\n",
              "    .colab-df-convert {\n",
              "      background-color: #E8F0FE;\n",
              "      border: none;\n",
              "      border-radius: 50%;\n",
              "      cursor: pointer;\n",
              "      display: none;\n",
              "      fill: #1967D2;\n",
              "      height: 32px;\n",
              "      padding: 0 0 0 0;\n",
              "      width: 32px;\n",
              "    }\n",
              "\n",
              "    .colab-df-convert:hover {\n",
              "      background-color: #E2EBFA;\n",
              "      box-shadow: 0px 1px 2px rgba(60, 64, 67, 0.3), 0px 1px 3px 1px rgba(60, 64, 67, 0.15);\n",
              "      fill: #174EA6;\n",
              "    }\n",
              "\n",
              "    .colab-df-buttons div {\n",
              "      margin-bottom: 4px;\n",
              "    }\n",
              "\n",
              "    [theme=dark] .colab-df-convert {\n",
              "      background-color: #3B4455;\n",
              "      fill: #D2E3FC;\n",
              "    }\n",
              "\n",
              "    [theme=dark] .colab-df-convert:hover {\n",
              "      background-color: #434B5C;\n",
              "      box-shadow: 0px 1px 3px 1px rgba(0, 0, 0, 0.15);\n",
              "      filter: drop-shadow(0px 1px 2px rgba(0, 0, 0, 0.3));\n",
              "      fill: #FFFFFF;\n",
              "    }\n",
              "  </style>\n",
              "\n",
              "    <script>\n",
              "      const buttonEl =\n",
              "        document.querySelector('#df-03e42dd0-e988-411d-b6e2-f19cf053d5e3 button.colab-df-convert');\n",
              "      buttonEl.style.display =\n",
              "        google.colab.kernel.accessAllowed ? 'block' : 'none';\n",
              "\n",
              "      async function convertToInteractive(key) {\n",
              "        const element = document.querySelector('#df-03e42dd0-e988-411d-b6e2-f19cf053d5e3');\n",
              "        const dataTable =\n",
              "          await google.colab.kernel.invokeFunction('convertToInteractive',\n",
              "                                                    [key], {});\n",
              "        if (!dataTable) return;\n",
              "\n",
              "        const docLinkHtml = 'Like what you see? Visit the ' +\n",
              "          '<a target=\"_blank\" href=https://colab.research.google.com/notebooks/data_table.ipynb>data table notebook</a>'\n",
              "          + ' to learn more about interactive tables.';\n",
              "        element.innerHTML = '';\n",
              "        dataTable['output_type'] = 'display_data';\n",
              "        await google.colab.output.renderOutput(dataTable, element);\n",
              "        const docLink = document.createElement('div');\n",
              "        docLink.innerHTML = docLinkHtml;\n",
              "        element.appendChild(docLink);\n",
              "      }\n",
              "    </script>\n",
              "  </div>\n",
              "\n",
              "\n",
              "<div id=\"df-ae0ae3b0-a84b-4eb2-b86d-d6b3db3d073b\">\n",
              "  <button class=\"colab-df-quickchart\" onclick=\"quickchart('df-ae0ae3b0-a84b-4eb2-b86d-d6b3db3d073b')\"\n",
              "            title=\"Suggest charts\"\n",
              "            style=\"display:none;\">\n",
              "\n",
              "<svg xmlns=\"http://www.w3.org/2000/svg\" height=\"24px\"viewBox=\"0 0 24 24\"\n",
              "     width=\"24px\">\n",
              "    <g>\n",
              "        <path d=\"M19 3H5c-1.1 0-2 .9-2 2v14c0 1.1.9 2 2 2h14c1.1 0 2-.9 2-2V5c0-1.1-.9-2-2-2zM9 17H7v-7h2v7zm4 0h-2V7h2v10zm4 0h-2v-4h2v4z\"/>\n",
              "    </g>\n",
              "</svg>\n",
              "  </button>\n",
              "\n",
              "<style>\n",
              "  .colab-df-quickchart {\n",
              "      --bg-color: #E8F0FE;\n",
              "      --fill-color: #1967D2;\n",
              "      --hover-bg-color: #E2EBFA;\n",
              "      --hover-fill-color: #174EA6;\n",
              "      --disabled-fill-color: #AAA;\n",
              "      --disabled-bg-color: #DDD;\n",
              "  }\n",
              "\n",
              "  [theme=dark] .colab-df-quickchart {\n",
              "      --bg-color: #3B4455;\n",
              "      --fill-color: #D2E3FC;\n",
              "      --hover-bg-color: #434B5C;\n",
              "      --hover-fill-color: #FFFFFF;\n",
              "      --disabled-bg-color: #3B4455;\n",
              "      --disabled-fill-color: #666;\n",
              "  }\n",
              "\n",
              "  .colab-df-quickchart {\n",
              "    background-color: var(--bg-color);\n",
              "    border: none;\n",
              "    border-radius: 50%;\n",
              "    cursor: pointer;\n",
              "    display: none;\n",
              "    fill: var(--fill-color);\n",
              "    height: 32px;\n",
              "    padding: 0;\n",
              "    width: 32px;\n",
              "  }\n",
              "\n",
              "  .colab-df-quickchart:hover {\n",
              "    background-color: var(--hover-bg-color);\n",
              "    box-shadow: 0 1px 2px rgba(60, 64, 67, 0.3), 0 1px 3px 1px rgba(60, 64, 67, 0.15);\n",
              "    fill: var(--button-hover-fill-color);\n",
              "  }\n",
              "\n",
              "  .colab-df-quickchart-complete:disabled,\n",
              "  .colab-df-quickchart-complete:disabled:hover {\n",
              "    background-color: var(--disabled-bg-color);\n",
              "    fill: var(--disabled-fill-color);\n",
              "    box-shadow: none;\n",
              "  }\n",
              "\n",
              "  .colab-df-spinner {\n",
              "    border: 2px solid var(--fill-color);\n",
              "    border-color: transparent;\n",
              "    border-bottom-color: var(--fill-color);\n",
              "    animation:\n",
              "      spin 1s steps(1) infinite;\n",
              "  }\n",
              "\n",
              "  @keyframes spin {\n",
              "    0% {\n",
              "      border-color: transparent;\n",
              "      border-bottom-color: var(--fill-color);\n",
              "      border-left-color: var(--fill-color);\n",
              "    }\n",
              "    20% {\n",
              "      border-color: transparent;\n",
              "      border-left-color: var(--fill-color);\n",
              "      border-top-color: var(--fill-color);\n",
              "    }\n",
              "    30% {\n",
              "      border-color: transparent;\n",
              "      border-left-color: var(--fill-color);\n",
              "      border-top-color: var(--fill-color);\n",
              "      border-right-color: var(--fill-color);\n",
              "    }\n",
              "    40% {\n",
              "      border-color: transparent;\n",
              "      border-right-color: var(--fill-color);\n",
              "      border-top-color: var(--fill-color);\n",
              "    }\n",
              "    60% {\n",
              "      border-color: transparent;\n",
              "      border-right-color: var(--fill-color);\n",
              "    }\n",
              "    80% {\n",
              "      border-color: transparent;\n",
              "      border-right-color: var(--fill-color);\n",
              "      border-bottom-color: var(--fill-color);\n",
              "    }\n",
              "    90% {\n",
              "      border-color: transparent;\n",
              "      border-bottom-color: var(--fill-color);\n",
              "    }\n",
              "  }\n",
              "</style>\n",
              "\n",
              "  <script>\n",
              "    async function quickchart(key) {\n",
              "      const quickchartButtonEl =\n",
              "        document.querySelector('#' + key + ' button');\n",
              "      quickchartButtonEl.disabled = true;  // To prevent multiple clicks.\n",
              "      quickchartButtonEl.classList.add('colab-df-spinner');\n",
              "      try {\n",
              "        const charts = await google.colab.kernel.invokeFunction(\n",
              "            'suggestCharts', [key], {});\n",
              "      } catch (error) {\n",
              "        console.error('Error during call to suggestCharts:', error);\n",
              "      }\n",
              "      quickchartButtonEl.classList.remove('colab-df-spinner');\n",
              "      quickchartButtonEl.classList.add('colab-df-quickchart-complete');\n",
              "    }\n",
              "    (() => {\n",
              "      let quickchartButtonEl =\n",
              "        document.querySelector('#df-ae0ae3b0-a84b-4eb2-b86d-d6b3db3d073b button');\n",
              "      quickchartButtonEl.style.display =\n",
              "        google.colab.kernel.accessAllowed ? 'block' : 'none';\n",
              "    })();\n",
              "  </script>\n",
              "</div>\n",
              "\n",
              "    </div>\n",
              "  </div>\n"
            ],
            "application/vnd.google.colaboratory.intrinsic+json": {
              "type": "dataframe",
              "variable_name": "dados"
            }
          },
          "metadata": {},
          "execution_count": 3
        }
      ]
    },
    {
      "cell_type": "code",
      "source": [
        "dados.columns"
      ],
      "metadata": {
        "colab": {
          "base_uri": "https://localhost:8080/"
        },
        "id": "aBDW68-s4AsH",
        "outputId": "bd52ce96-e74a-4793-e56a-43358a44cc9f"
      },
      "execution_count": null,
      "outputs": [
        {
          "output_type": "execute_result",
          "data": {
            "text/plain": [
              "Index(['ID', 'IDADE', 'FAIXA IDADE', 'GENERO', 'COR/RACA/ETNIA', 'PCD',\n",
              "       'EXPERIENCIA_PROFISSIONAL_PREJUDICADA', 'ASPECTOS_PREJUDICADOS',\n",
              "       'VIVE_NO_BRASIL', 'ESTADO ONDE MORA', 'UF ONDE MORA',\n",
              "       'REGIAO ONDE MORA', 'MUDOU DE ESTADO?', 'REGIAO DE ORIGEM',\n",
              "       'NIVEL DE ENSINO', 'ÁREA DE FORMAÇÃO',\n",
              "       'QUAL SUA SITUAÇÃO ATUAL DE TRABALHO?', 'SETOR',\n",
              "       'NUMERO DE FUNCIONARIOS', 'GESTOR?', 'CARGO COMO GESTOR', 'CARGO ATUAL',\n",
              "       'FAIXA SALARIAL',\n",
              "       'QUANTO TEMPO DE EXPERIÊNCIA NA ÁREA DE DADOS VOCÊ TEM?',\n",
              "       'QUANTO TEMPO DE EXPERIÊNCIA NA ÁREA DE TI/ENGENHARIA DE SOFTWARE VOCÊ TEVE ANTES DE COMEÇAR A TRABALHAR NA ÁREA DE DADOS?',\n",
              "       'SALARIO', 'NOVO_NIVEL', 'NIVEL_Júnior', 'NIVEL_Pleno', 'NIVEL_Sênior',\n",
              "       'GEARACAO', 'Quanto tempo de experiência na área de dados você tem?',\n",
              "       'Quanto tempo de experiência na área de TI/Engenharia de Software você teve antes de começar a trabalhar na área de dados?',\n",
              "       'Você está satisfeito na sua empresa atual?',\n",
              "       'Qual o principal motivo da sua insatisfação com a empresa atual?',\n",
              "       'Você participou de entrevistas de emprego nos últimos 6 meses?',\n",
              "       'Você pretende mudar de emprego nos próximos 6 meses?',\n",
              "       'Quais os principais critérios que você leva em consideração no momento de decidir onde trabalhar?',\n",
              "       'Atualmente qual a sua forma de trabalho?',\n",
              "       'Qual a forma de trabalho ideal para você?',\n",
              "       'Caso sua empresa decida pelo modelo 100% presencial qual será sua atitude?',\n",
              "       'Sua empresa passu por Layoff em 2022?', 'Atuacao',\n",
              "       'Quais das linguagens listadas abaixo você utiliza no trabalho?',\n",
              "       'EM_BUSCA', 'ABERTO_OPORTUNIDADES'],\n",
              "      dtype='object')"
            ]
          },
          "metadata": {},
          "execution_count": 4
        }
      ]
    },
    {
      "cell_type": "code",
      "source": [
        "dados[\"QUAL SUA SITUAÇÃO ATUAL DE TRABALHO?\"].value_counts()"
      ],
      "metadata": {
        "colab": {
          "base_uri": "https://localhost:8080/",
          "height": 523
        },
        "id": "vlddHDap4Pxt",
        "outputId": "ffbf263f-8a6e-4c82-dbac-b58943bd5eae"
      },
      "execution_count": null,
      "outputs": [
        {
          "output_type": "execute_result",
          "data": {
            "text/plain": [
              "QUAL SUA SITUAÇÃO ATUAL DE TRABALHO?\n",
              "Empregado (CLT)                                                    2762\n",
              "Empreendedor ou Empregado (CNPJ)                                    410\n",
              "Desempregado, buscando recolocação                                  350\n",
              "Estagiário                                                          188\n",
              "Servidor Público                                                    156\n",
              "Trabalho na área Acadêmica/Pesquisador                               86\n",
              "Somente Estudante (graduação)                                        82\n",
              "Vivo no Brasil e trabalho remoto para empresa de fora do Brasil      69\n",
              "Vivo fora do Brasil e trabalho para empresa de fora do Brasil        46\n",
              "Somente Estudante (pós-graduação)                                    44\n",
              "Freelancer                                                           39\n",
              "Prefiro não informar                                                 24\n",
              "Desempregado e não estou buscando recolocação                        15\n",
              "Name: count, dtype: int64"
            ],
            "text/html": [
              "<div>\n",
              "<style scoped>\n",
              "    .dataframe tbody tr th:only-of-type {\n",
              "        vertical-align: middle;\n",
              "    }\n",
              "\n",
              "    .dataframe tbody tr th {\n",
              "        vertical-align: top;\n",
              "    }\n",
              "\n",
              "    .dataframe thead th {\n",
              "        text-align: right;\n",
              "    }\n",
              "</style>\n",
              "<table border=\"1\" class=\"dataframe\">\n",
              "  <thead>\n",
              "    <tr style=\"text-align: right;\">\n",
              "      <th></th>\n",
              "      <th>count</th>\n",
              "    </tr>\n",
              "    <tr>\n",
              "      <th>QUAL SUA SITUAÇÃO ATUAL DE TRABALHO?</th>\n",
              "      <th></th>\n",
              "    </tr>\n",
              "  </thead>\n",
              "  <tbody>\n",
              "    <tr>\n",
              "      <th>Empregado (CLT)</th>\n",
              "      <td>2762</td>\n",
              "    </tr>\n",
              "    <tr>\n",
              "      <th>Empreendedor ou Empregado (CNPJ)</th>\n",
              "      <td>410</td>\n",
              "    </tr>\n",
              "    <tr>\n",
              "      <th>Desempregado, buscando recolocação</th>\n",
              "      <td>350</td>\n",
              "    </tr>\n",
              "    <tr>\n",
              "      <th>Estagiário</th>\n",
              "      <td>188</td>\n",
              "    </tr>\n",
              "    <tr>\n",
              "      <th>Servidor Público</th>\n",
              "      <td>156</td>\n",
              "    </tr>\n",
              "    <tr>\n",
              "      <th>Trabalho na área Acadêmica/Pesquisador</th>\n",
              "      <td>86</td>\n",
              "    </tr>\n",
              "    <tr>\n",
              "      <th>Somente Estudante (graduação)</th>\n",
              "      <td>82</td>\n",
              "    </tr>\n",
              "    <tr>\n",
              "      <th>Vivo no Brasil e trabalho remoto para empresa de fora do Brasil</th>\n",
              "      <td>69</td>\n",
              "    </tr>\n",
              "    <tr>\n",
              "      <th>Vivo fora do Brasil e trabalho para empresa de fora do Brasil</th>\n",
              "      <td>46</td>\n",
              "    </tr>\n",
              "    <tr>\n",
              "      <th>Somente Estudante (pós-graduação)</th>\n",
              "      <td>44</td>\n",
              "    </tr>\n",
              "    <tr>\n",
              "      <th>Freelancer</th>\n",
              "      <td>39</td>\n",
              "    </tr>\n",
              "    <tr>\n",
              "      <th>Prefiro não informar</th>\n",
              "      <td>24</td>\n",
              "    </tr>\n",
              "    <tr>\n",
              "      <th>Desempregado e não estou buscando recolocação</th>\n",
              "      <td>15</td>\n",
              "    </tr>\n",
              "  </tbody>\n",
              "</table>\n",
              "</div><br><label><b>dtype:</b> int64</label>"
            ]
          },
          "metadata": {},
          "execution_count": 5
        }
      ]
    },
    {
      "cell_type": "code",
      "source": [
        "dados = dados[dados[\"QUAL SUA SITUAÇÃO ATUAL DE TRABALHO?\"] == \"Empregado (CLT)\"]"
      ],
      "metadata": {
        "id": "sGyyVK3x4ieQ"
      },
      "execution_count": null,
      "outputs": []
    },
    {
      "cell_type": "code",
      "source": [
        "dados[\"QUAL SUA SITUAÇÃO ATUAL DE TRABALHO?\"].value_counts()"
      ],
      "metadata": {
        "colab": {
          "base_uri": "https://localhost:8080/",
          "height": 147
        },
        "id": "HA1Wc_zk5PFG",
        "outputId": "d796fbad-35bf-4990-eddd-5ce1701e5b16"
      },
      "execution_count": null,
      "outputs": [
        {
          "output_type": "execute_result",
          "data": {
            "text/plain": [
              "QUAL SUA SITUAÇÃO ATUAL DE TRABALHO?\n",
              "Empregado (CLT)    2762\n",
              "Name: count, dtype: int64"
            ],
            "text/html": [
              "<div>\n",
              "<style scoped>\n",
              "    .dataframe tbody tr th:only-of-type {\n",
              "        vertical-align: middle;\n",
              "    }\n",
              "\n",
              "    .dataframe tbody tr th {\n",
              "        vertical-align: top;\n",
              "    }\n",
              "\n",
              "    .dataframe thead th {\n",
              "        text-align: right;\n",
              "    }\n",
              "</style>\n",
              "<table border=\"1\" class=\"dataframe\">\n",
              "  <thead>\n",
              "    <tr style=\"text-align: right;\">\n",
              "      <th></th>\n",
              "      <th>count</th>\n",
              "    </tr>\n",
              "    <tr>\n",
              "      <th>QUAL SUA SITUAÇÃO ATUAL DE TRABALHO?</th>\n",
              "      <th></th>\n",
              "    </tr>\n",
              "  </thead>\n",
              "  <tbody>\n",
              "    <tr>\n",
              "      <th>Empregado (CLT)</th>\n",
              "      <td>2762</td>\n",
              "    </tr>\n",
              "  </tbody>\n",
              "</table>\n",
              "</div><br><label><b>dtype:</b> int64</label>"
            ]
          },
          "metadata": {},
          "execution_count": 7
        }
      ]
    },
    {
      "cell_type": "code",
      "source": [
        "dados[\"COR/RACA/ETNIA\"].value_counts()"
      ],
      "metadata": {
        "colab": {
          "base_uri": "https://localhost:8080/",
          "height": 335
        },
        "id": "Kb3KHdTH5WXy",
        "outputId": "eb2b0d08-bdde-4e14-a41c-c833abace4de"
      },
      "execution_count": null,
      "outputs": [
        {
          "output_type": "execute_result",
          "data": {
            "text/plain": [
              "COR/RACA/ETNIA\n",
              "Branca                  1805\n",
              "Parda                    661\n",
              "Preta                    181\n",
              "Amarela                   85\n",
              "Prefiro não informar      16\n",
              "Outra                     10\n",
              "Indígena                   4\n",
              "Name: count, dtype: int64"
            ],
            "text/html": [
              "<div>\n",
              "<style scoped>\n",
              "    .dataframe tbody tr th:only-of-type {\n",
              "        vertical-align: middle;\n",
              "    }\n",
              "\n",
              "    .dataframe tbody tr th {\n",
              "        vertical-align: top;\n",
              "    }\n",
              "\n",
              "    .dataframe thead th {\n",
              "        text-align: right;\n",
              "    }\n",
              "</style>\n",
              "<table border=\"1\" class=\"dataframe\">\n",
              "  <thead>\n",
              "    <tr style=\"text-align: right;\">\n",
              "      <th></th>\n",
              "      <th>count</th>\n",
              "    </tr>\n",
              "    <tr>\n",
              "      <th>COR/RACA/ETNIA</th>\n",
              "      <th></th>\n",
              "    </tr>\n",
              "  </thead>\n",
              "  <tbody>\n",
              "    <tr>\n",
              "      <th>Branca</th>\n",
              "      <td>1805</td>\n",
              "    </tr>\n",
              "    <tr>\n",
              "      <th>Parda</th>\n",
              "      <td>661</td>\n",
              "    </tr>\n",
              "    <tr>\n",
              "      <th>Preta</th>\n",
              "      <td>181</td>\n",
              "    </tr>\n",
              "    <tr>\n",
              "      <th>Amarela</th>\n",
              "      <td>85</td>\n",
              "    </tr>\n",
              "    <tr>\n",
              "      <th>Prefiro não informar</th>\n",
              "      <td>16</td>\n",
              "    </tr>\n",
              "    <tr>\n",
              "      <th>Outra</th>\n",
              "      <td>10</td>\n",
              "    </tr>\n",
              "    <tr>\n",
              "      <th>Indígena</th>\n",
              "      <td>4</td>\n",
              "    </tr>\n",
              "  </tbody>\n",
              "</table>\n",
              "</div><br><label><b>dtype:</b> int64</label>"
            ]
          },
          "metadata": {},
          "execution_count": 8
        }
      ]
    },
    {
      "cell_type": "code",
      "source": [
        "lista_retirar = [\"Prefiro não informar\", \"Outra\", \"Indígena\"]"
      ],
      "metadata": {
        "id": "rYcUc7WF5pDO"
      },
      "execution_count": null,
      "outputs": []
    },
    {
      "cell_type": "code",
      "source": [
        "dados = dados[~dados[\"COR/RACA/ETNIA\"].isin(lista_retirar)]"
      ],
      "metadata": {
        "id": "l0lCZ5H86PCv"
      },
      "execution_count": null,
      "outputs": []
    },
    {
      "cell_type": "code",
      "source": [
        "dados[\"NAO_BRANCA\"] = dados[\"COR/RACA/ETNIA\"].apply(lambda x: 1 if x!=\"Branca\" else 0)"
      ],
      "metadata": {
        "id": "DY6G8jyv603O",
        "colab": {
          "base_uri": "https://localhost:8080/"
        },
        "outputId": "2f02a6b4-6d17-4b7e-d63c-169b934aad8b"
      },
      "execution_count": null,
      "outputs": [
        {
          "output_type": "stream",
          "name": "stderr",
          "text": [
            "<ipython-input-11-bd95d102fc97>:1: SettingWithCopyWarning: \n",
            "A value is trying to be set on a copy of a slice from a DataFrame.\n",
            "Try using .loc[row_indexer,col_indexer] = value instead\n",
            "\n",
            "See the caveats in the documentation: https://pandas.pydata.org/pandas-docs/stable/user_guide/indexing.html#returning-a-view-versus-a-copy\n",
            "  dados[\"NAO_BRANCA\"] = dados[\"COR/RACA/ETNIA\"].apply(lambda x: 1 if x!=\"Branca\" else 0)\n"
          ]
        }
      ]
    },
    {
      "cell_type": "code",
      "source": [
        "dados[\"QUANTO TEMPO DE EXPERIÊNCIA NA ÁREA DE DADOS VOCÊ TEM?\"].value_counts()"
      ],
      "metadata": {
        "colab": {
          "base_uri": "https://localhost:8080/",
          "height": 335
        },
        "id": "xkOqR1pF7o5n",
        "outputId": "36d5d7d4-40c3-4253-bf2d-56c70052bd06"
      },
      "execution_count": null,
      "outputs": [
        {
          "output_type": "execute_result",
          "data": {
            "text/plain": [
              "QUANTO TEMPO DE EXPERIÊNCIA NA ÁREA DE DADOS VOCÊ TEM?\n",
              "de 1 a 2 anos                             743\n",
              "de 3 a 4 anos                             584\n",
              "de 4 a 6 anos                             416\n",
              "Menos de 1 ano                            353\n",
              "Mais de 10 anos                           277\n",
              "de 7 a 10 anos                            232\n",
              "Não tenho experiência na área de dados    127\n",
              "Name: count, dtype: int64"
            ],
            "text/html": [
              "<div>\n",
              "<style scoped>\n",
              "    .dataframe tbody tr th:only-of-type {\n",
              "        vertical-align: middle;\n",
              "    }\n",
              "\n",
              "    .dataframe tbody tr th {\n",
              "        vertical-align: top;\n",
              "    }\n",
              "\n",
              "    .dataframe thead th {\n",
              "        text-align: right;\n",
              "    }\n",
              "</style>\n",
              "<table border=\"1\" class=\"dataframe\">\n",
              "  <thead>\n",
              "    <tr style=\"text-align: right;\">\n",
              "      <th></th>\n",
              "      <th>count</th>\n",
              "    </tr>\n",
              "    <tr>\n",
              "      <th>QUANTO TEMPO DE EXPERIÊNCIA NA ÁREA DE DADOS VOCÊ TEM?</th>\n",
              "      <th></th>\n",
              "    </tr>\n",
              "  </thead>\n",
              "  <tbody>\n",
              "    <tr>\n",
              "      <th>de 1 a 2 anos</th>\n",
              "      <td>743</td>\n",
              "    </tr>\n",
              "    <tr>\n",
              "      <th>de 3 a 4 anos</th>\n",
              "      <td>584</td>\n",
              "    </tr>\n",
              "    <tr>\n",
              "      <th>de 4 a 6 anos</th>\n",
              "      <td>416</td>\n",
              "    </tr>\n",
              "    <tr>\n",
              "      <th>Menos de 1 ano</th>\n",
              "      <td>353</td>\n",
              "    </tr>\n",
              "    <tr>\n",
              "      <th>Mais de 10 anos</th>\n",
              "      <td>277</td>\n",
              "    </tr>\n",
              "    <tr>\n",
              "      <th>de 7 a 10 anos</th>\n",
              "      <td>232</td>\n",
              "    </tr>\n",
              "    <tr>\n",
              "      <th>Não tenho experiência na área de dados</th>\n",
              "      <td>127</td>\n",
              "    </tr>\n",
              "  </tbody>\n",
              "</table>\n",
              "</div><br><label><b>dtype:</b> int64</label>"
            ]
          },
          "metadata": {},
          "execution_count": 12
        }
      ]
    },
    {
      "cell_type": "code",
      "source": [
        "dados[\"TEMPO_EXPERIENCIA\"] = dados[\"QUANTO TEMPO DE EXPERIÊNCIA NA ÁREA DE DADOS VOCÊ TEM?\"].str.extract(r'(\\d+)')"
      ],
      "metadata": {
        "id": "rgSJsKhy7s9y",
        "colab": {
          "base_uri": "https://localhost:8080/"
        },
        "outputId": "9128ed7c-9a87-4e3d-aae7-fb7db4eb4ba2"
      },
      "execution_count": null,
      "outputs": [
        {
          "output_type": "stream",
          "name": "stderr",
          "text": [
            "<ipython-input-13-3aa727135f62>:1: SettingWithCopyWarning: \n",
            "A value is trying to be set on a copy of a slice from a DataFrame.\n",
            "Try using .loc[row_indexer,col_indexer] = value instead\n",
            "\n",
            "See the caveats in the documentation: https://pandas.pydata.org/pandas-docs/stable/user_guide/indexing.html#returning-a-view-versus-a-copy\n",
            "  dados[\"TEMPO_EXPERIENCIA\"] = dados[\"QUANTO TEMPO DE EXPERIÊNCIA NA ÁREA DE DADOS VOCÊ TEM?\"].str.extract(r'(\\d+)')\n"
          ]
        }
      ]
    },
    {
      "cell_type": "code",
      "source": [
        "dados[\"TEMPO_EXPERIENCIA\"].value_counts()"
      ],
      "metadata": {
        "colab": {
          "base_uri": "https://localhost:8080/",
          "height": 272
        },
        "id": "26v_FVJh94qf",
        "outputId": "6063d4f2-af0b-45ae-8945-0b85b918be93"
      },
      "execution_count": null,
      "outputs": [
        {
          "output_type": "execute_result",
          "data": {
            "text/plain": [
              "TEMPO_EXPERIENCIA\n",
              "1     1096\n",
              "3      584\n",
              "4      416\n",
              "10     277\n",
              "7      232\n",
              "Name: count, dtype: int64"
            ],
            "text/html": [
              "<div>\n",
              "<style scoped>\n",
              "    .dataframe tbody tr th:only-of-type {\n",
              "        vertical-align: middle;\n",
              "    }\n",
              "\n",
              "    .dataframe tbody tr th {\n",
              "        vertical-align: top;\n",
              "    }\n",
              "\n",
              "    .dataframe thead th {\n",
              "        text-align: right;\n",
              "    }\n",
              "</style>\n",
              "<table border=\"1\" class=\"dataframe\">\n",
              "  <thead>\n",
              "    <tr style=\"text-align: right;\">\n",
              "      <th></th>\n",
              "      <th>count</th>\n",
              "    </tr>\n",
              "    <tr>\n",
              "      <th>TEMPO_EXPERIENCIA</th>\n",
              "      <th></th>\n",
              "    </tr>\n",
              "  </thead>\n",
              "  <tbody>\n",
              "    <tr>\n",
              "      <th>1</th>\n",
              "      <td>1096</td>\n",
              "    </tr>\n",
              "    <tr>\n",
              "      <th>3</th>\n",
              "      <td>584</td>\n",
              "    </tr>\n",
              "    <tr>\n",
              "      <th>4</th>\n",
              "      <td>416</td>\n",
              "    </tr>\n",
              "    <tr>\n",
              "      <th>10</th>\n",
              "      <td>277</td>\n",
              "    </tr>\n",
              "    <tr>\n",
              "      <th>7</th>\n",
              "      <td>232</td>\n",
              "    </tr>\n",
              "  </tbody>\n",
              "</table>\n",
              "</div><br><label><b>dtype:</b> int64</label>"
            ]
          },
          "metadata": {},
          "execution_count": 14
        }
      ]
    },
    {
      "cell_type": "code",
      "source": [
        "dados[\"NUMERO DE FUNCIONARIOS\"].value_counts()"
      ],
      "metadata": {
        "colab": {
          "base_uri": "https://localhost:8080/",
          "height": 366
        },
        "id": "SDfl4xFX95Q_",
        "outputId": "09675b78-4b9d-43cc-bba1-9745d1d6a364"
      },
      "execution_count": null,
      "outputs": [
        {
          "output_type": "execute_result",
          "data": {
            "text/plain": [
              "NUMERO DE FUNCIONARIOS\n",
              "Acima de 3.000      1313\n",
              "de 101 a 500         503\n",
              "de 1.001 a 3.000     368\n",
              "de 501 a 1.000       248\n",
              "de 51 a 100          146\n",
              "de 11 a 50           112\n",
              "de 6 a 10             24\n",
              "de 1 a 5              18\n",
              "Name: count, dtype: int64"
            ],
            "text/html": [
              "<div>\n",
              "<style scoped>\n",
              "    .dataframe tbody tr th:only-of-type {\n",
              "        vertical-align: middle;\n",
              "    }\n",
              "\n",
              "    .dataframe tbody tr th {\n",
              "        vertical-align: top;\n",
              "    }\n",
              "\n",
              "    .dataframe thead th {\n",
              "        text-align: right;\n",
              "    }\n",
              "</style>\n",
              "<table border=\"1\" class=\"dataframe\">\n",
              "  <thead>\n",
              "    <tr style=\"text-align: right;\">\n",
              "      <th></th>\n",
              "      <th>count</th>\n",
              "    </tr>\n",
              "    <tr>\n",
              "      <th>NUMERO DE FUNCIONARIOS</th>\n",
              "      <th></th>\n",
              "    </tr>\n",
              "  </thead>\n",
              "  <tbody>\n",
              "    <tr>\n",
              "      <th>Acima de 3.000</th>\n",
              "      <td>1313</td>\n",
              "    </tr>\n",
              "    <tr>\n",
              "      <th>de 101 a 500</th>\n",
              "      <td>503</td>\n",
              "    </tr>\n",
              "    <tr>\n",
              "      <th>de 1.001 a 3.000</th>\n",
              "      <td>368</td>\n",
              "    </tr>\n",
              "    <tr>\n",
              "      <th>de 501 a 1.000</th>\n",
              "      <td>248</td>\n",
              "    </tr>\n",
              "    <tr>\n",
              "      <th>de 51 a 100</th>\n",
              "      <td>146</td>\n",
              "    </tr>\n",
              "    <tr>\n",
              "      <th>de 11 a 50</th>\n",
              "      <td>112</td>\n",
              "    </tr>\n",
              "    <tr>\n",
              "      <th>de 6 a 10</th>\n",
              "      <td>24</td>\n",
              "    </tr>\n",
              "    <tr>\n",
              "      <th>de 1 a 5</th>\n",
              "      <td>18</td>\n",
              "    </tr>\n",
              "  </tbody>\n",
              "</table>\n",
              "</div><br><label><b>dtype:</b> int64</label>"
            ]
          },
          "metadata": {},
          "execution_count": 15
        }
      ]
    },
    {
      "cell_type": "code",
      "source": [
        "dados[\"NUMERO DE FUNCIONARIOS\"] = dados[\"NUMERO DE FUNCIONARIOS\"].str.replace(\".\",\"\")"
      ],
      "metadata": {
        "id": "nk-8l4vC_dYt",
        "colab": {
          "base_uri": "https://localhost:8080/"
        },
        "outputId": "8c51221e-26dd-4181-b2be-c7fb576168b5"
      },
      "execution_count": null,
      "outputs": [
        {
          "output_type": "stream",
          "name": "stderr",
          "text": [
            "<ipython-input-16-33363a368e88>:1: SettingWithCopyWarning: \n",
            "A value is trying to be set on a copy of a slice from a DataFrame.\n",
            "Try using .loc[row_indexer,col_indexer] = value instead\n",
            "\n",
            "See the caveats in the documentation: https://pandas.pydata.org/pandas-docs/stable/user_guide/indexing.html#returning-a-view-versus-a-copy\n",
            "  dados[\"NUMERO DE FUNCIONARIOS\"] = dados[\"NUMERO DE FUNCIONARIOS\"].str.replace(\".\",\"\")\n"
          ]
        }
      ]
    },
    {
      "cell_type": "code",
      "source": [
        "dados[\"NUMERO DE FUNCIONARIOS\"] = dados[\"NUMERO DE FUNCIONARIOS\"].str.extract(r'(\\d+)')"
      ],
      "metadata": {
        "id": "-ZTsnqNehcGn",
        "colab": {
          "base_uri": "https://localhost:8080/"
        },
        "outputId": "a6c0845e-0c9f-4d34-fc2a-5576dcd1177f"
      },
      "execution_count": null,
      "outputs": [
        {
          "output_type": "stream",
          "name": "stderr",
          "text": [
            "<ipython-input-17-7062d7efe687>:1: SettingWithCopyWarning: \n",
            "A value is trying to be set on a copy of a slice from a DataFrame.\n",
            "Try using .loc[row_indexer,col_indexer] = value instead\n",
            "\n",
            "See the caveats in the documentation: https://pandas.pydata.org/pandas-docs/stable/user_guide/indexing.html#returning-a-view-versus-a-copy\n",
            "  dados[\"NUMERO DE FUNCIONARIOS\"] = dados[\"NUMERO DE FUNCIONARIOS\"].str.extract(r'(\\d+)')\n"
          ]
        }
      ]
    },
    {
      "cell_type": "code",
      "source": [
        "dados[\"NUMERO DE FUNCIONARIOS\"].value_counts(dropna=False)"
      ],
      "metadata": {
        "colab": {
          "base_uri": "https://localhost:8080/",
          "height": 366
        },
        "id": "dPY82mcQh7TA",
        "outputId": "8ae9afd0-4629-445d-a127-d50d77e2557f"
      },
      "execution_count": null,
      "outputs": [
        {
          "output_type": "execute_result",
          "data": {
            "text/plain": [
              "NUMERO DE FUNCIONARIOS\n",
              "3000    1313\n",
              "101      503\n",
              "1001     368\n",
              "501      248\n",
              "51       146\n",
              "11       112\n",
              "6         24\n",
              "1         18\n",
              "Name: count, dtype: int64"
            ],
            "text/html": [
              "<div>\n",
              "<style scoped>\n",
              "    .dataframe tbody tr th:only-of-type {\n",
              "        vertical-align: middle;\n",
              "    }\n",
              "\n",
              "    .dataframe tbody tr th {\n",
              "        vertical-align: top;\n",
              "    }\n",
              "\n",
              "    .dataframe thead th {\n",
              "        text-align: right;\n",
              "    }\n",
              "</style>\n",
              "<table border=\"1\" class=\"dataframe\">\n",
              "  <thead>\n",
              "    <tr style=\"text-align: right;\">\n",
              "      <th></th>\n",
              "      <th>count</th>\n",
              "    </tr>\n",
              "    <tr>\n",
              "      <th>NUMERO DE FUNCIONARIOS</th>\n",
              "      <th></th>\n",
              "    </tr>\n",
              "  </thead>\n",
              "  <tbody>\n",
              "    <tr>\n",
              "      <th>3000</th>\n",
              "      <td>1313</td>\n",
              "    </tr>\n",
              "    <tr>\n",
              "      <th>101</th>\n",
              "      <td>503</td>\n",
              "    </tr>\n",
              "    <tr>\n",
              "      <th>1001</th>\n",
              "      <td>368</td>\n",
              "    </tr>\n",
              "    <tr>\n",
              "      <th>501</th>\n",
              "      <td>248</td>\n",
              "    </tr>\n",
              "    <tr>\n",
              "      <th>51</th>\n",
              "      <td>146</td>\n",
              "    </tr>\n",
              "    <tr>\n",
              "      <th>11</th>\n",
              "      <td>112</td>\n",
              "    </tr>\n",
              "    <tr>\n",
              "      <th>6</th>\n",
              "      <td>24</td>\n",
              "    </tr>\n",
              "    <tr>\n",
              "      <th>1</th>\n",
              "      <td>18</td>\n",
              "    </tr>\n",
              "  </tbody>\n",
              "</table>\n",
              "</div><br><label><b>dtype:</b> int64</label>"
            ]
          },
          "metadata": {},
          "execution_count": 18
        }
      ]
    },
    {
      "cell_type": "code",
      "source": [
        "dados[\"TEMPO_EXPERIENCIA\"].value_counts(dropna=False)"
      ],
      "metadata": {
        "colab": {
          "base_uri": "https://localhost:8080/",
          "height": 303
        },
        "id": "UudwOexUh96f",
        "outputId": "2dc06a39-09df-4bc1-81cb-49d7a0d01401"
      },
      "execution_count": null,
      "outputs": [
        {
          "output_type": "execute_result",
          "data": {
            "text/plain": [
              "TEMPO_EXPERIENCIA\n",
              "1      1096\n",
              "3       584\n",
              "4       416\n",
              "10      277\n",
              "7       232\n",
              "NaN     127\n",
              "Name: count, dtype: int64"
            ],
            "text/html": [
              "<div>\n",
              "<style scoped>\n",
              "    .dataframe tbody tr th:only-of-type {\n",
              "        vertical-align: middle;\n",
              "    }\n",
              "\n",
              "    .dataframe tbody tr th {\n",
              "        vertical-align: top;\n",
              "    }\n",
              "\n",
              "    .dataframe thead th {\n",
              "        text-align: right;\n",
              "    }\n",
              "</style>\n",
              "<table border=\"1\" class=\"dataframe\">\n",
              "  <thead>\n",
              "    <tr style=\"text-align: right;\">\n",
              "      <th></th>\n",
              "      <th>count</th>\n",
              "    </tr>\n",
              "    <tr>\n",
              "      <th>TEMPO_EXPERIENCIA</th>\n",
              "      <th></th>\n",
              "    </tr>\n",
              "  </thead>\n",
              "  <tbody>\n",
              "    <tr>\n",
              "      <th>1</th>\n",
              "      <td>1096</td>\n",
              "    </tr>\n",
              "    <tr>\n",
              "      <th>3</th>\n",
              "      <td>584</td>\n",
              "    </tr>\n",
              "    <tr>\n",
              "      <th>4</th>\n",
              "      <td>416</td>\n",
              "    </tr>\n",
              "    <tr>\n",
              "      <th>10</th>\n",
              "      <td>277</td>\n",
              "    </tr>\n",
              "    <tr>\n",
              "      <th>7</th>\n",
              "      <td>232</td>\n",
              "    </tr>\n",
              "    <tr>\n",
              "      <th>NaN</th>\n",
              "      <td>127</td>\n",
              "    </tr>\n",
              "  </tbody>\n",
              "</table>\n",
              "</div><br><label><b>dtype:</b> int64</label>"
            ]
          },
          "metadata": {},
          "execution_count": 19
        }
      ]
    },
    {
      "cell_type": "code",
      "source": [
        "dados[\"TEMPO_EXPERIENCIA\"] = dados[\"TEMPO_EXPERIENCIA\"].fillna(0)"
      ],
      "metadata": {
        "id": "kGmEq2uAifCo",
        "colab": {
          "base_uri": "https://localhost:8080/"
        },
        "outputId": "48155caf-ed82-4dbc-b4a9-f46d793dcc96"
      },
      "execution_count": null,
      "outputs": [
        {
          "output_type": "stream",
          "name": "stderr",
          "text": [
            "<ipython-input-20-7012978b1393>:1: SettingWithCopyWarning: \n",
            "A value is trying to be set on a copy of a slice from a DataFrame.\n",
            "Try using .loc[row_indexer,col_indexer] = value instead\n",
            "\n",
            "See the caveats in the documentation: https://pandas.pydata.org/pandas-docs/stable/user_guide/indexing.html#returning-a-view-versus-a-copy\n",
            "  dados[\"TEMPO_EXPERIENCIA\"] = dados[\"TEMPO_EXPERIENCIA\"].fillna(0)\n"
          ]
        }
      ]
    },
    {
      "cell_type": "code",
      "source": [
        "dados.columns"
      ],
      "metadata": {
        "colab": {
          "base_uri": "https://localhost:8080/"
        },
        "id": "PGjevN84iujl",
        "outputId": "eca21947-e14e-4024-ab83-9f406b9f835f"
      },
      "execution_count": null,
      "outputs": [
        {
          "output_type": "execute_result",
          "data": {
            "text/plain": [
              "Index(['ID', 'IDADE', 'FAIXA IDADE', 'GENERO', 'COR/RACA/ETNIA', 'PCD',\n",
              "       'EXPERIENCIA_PROFISSIONAL_PREJUDICADA', 'ASPECTOS_PREJUDICADOS',\n",
              "       'VIVE_NO_BRASIL', 'ESTADO ONDE MORA', 'UF ONDE MORA',\n",
              "       'REGIAO ONDE MORA', 'MUDOU DE ESTADO?', 'REGIAO DE ORIGEM',\n",
              "       'NIVEL DE ENSINO', 'ÁREA DE FORMAÇÃO',\n",
              "       'QUAL SUA SITUAÇÃO ATUAL DE TRABALHO?', 'SETOR',\n",
              "       'NUMERO DE FUNCIONARIOS', 'GESTOR?', 'CARGO COMO GESTOR', 'CARGO ATUAL',\n",
              "       'FAIXA SALARIAL',\n",
              "       'QUANTO TEMPO DE EXPERIÊNCIA NA ÁREA DE DADOS VOCÊ TEM?',\n",
              "       'QUANTO TEMPO DE EXPERIÊNCIA NA ÁREA DE TI/ENGENHARIA DE SOFTWARE VOCÊ TEVE ANTES DE COMEÇAR A TRABALHAR NA ÁREA DE DADOS?',\n",
              "       'SALARIO', 'NOVO_NIVEL', 'NIVEL_Júnior', 'NIVEL_Pleno', 'NIVEL_Sênior',\n",
              "       'GEARACAO', 'Quanto tempo de experiência na área de dados você tem?',\n",
              "       'Quanto tempo de experiência na área de TI/Engenharia de Software você teve antes de começar a trabalhar na área de dados?',\n",
              "       'Você está satisfeito na sua empresa atual?',\n",
              "       'Qual o principal motivo da sua insatisfação com a empresa atual?',\n",
              "       'Você participou de entrevistas de emprego nos últimos 6 meses?',\n",
              "       'Você pretende mudar de emprego nos próximos 6 meses?',\n",
              "       'Quais os principais critérios que você leva em consideração no momento de decidir onde trabalhar?',\n",
              "       'Atualmente qual a sua forma de trabalho?',\n",
              "       'Qual a forma de trabalho ideal para você?',\n",
              "       'Caso sua empresa decida pelo modelo 100% presencial qual será sua atitude?',\n",
              "       'Sua empresa passu por Layoff em 2022?', 'Atuacao',\n",
              "       'Quais das linguagens listadas abaixo você utiliza no trabalho?',\n",
              "       'EM_BUSCA', 'ABERTO_OPORTUNIDADES', 'NAO_BRANCA', 'TEMPO_EXPERIENCIA'],\n",
              "      dtype='object')"
            ]
          },
          "metadata": {},
          "execution_count": 21
        }
      ]
    },
    {
      "cell_type": "code",
      "source": [
        "dados[\"Qual o principal motivo da sua insatisfação com a empresa atual?\"].value_counts()"
      ],
      "metadata": {
        "colab": {
          "base_uri": "https://localhost:8080/",
          "height": 489
        },
        "id": "fOaJh3UAkoa8",
        "outputId": "24b8312b-a3a9-486a-b334-a35bbc09cf35"
      },
      "execution_count": null,
      "outputs": [
        {
          "output_type": "execute_result",
          "data": {
            "text/plain": [
              "Qual o principal motivo da sua insatisfação com a empresa atual?\n",
              "Gostaria de trabalhar em em outra área de atuação                                                                                                           69\n",
              "Salário atual não corresponde ao mercado                                                                                                                    53\n",
              "Falta de oportunidade de crescimento no emprego atual                                                                                                       46\n",
              "Falta de maturidade analítica na empresa                                                                                                                    45\n",
              "Falta de oportunidade de crescimento no emprego atual, Salário atual não corresponde ao mercado, Falta de maturidade analítica na empresa                   26\n",
              "                                                                                                                                                            ..\n",
              "Trabalho explora pouco minhas habilidades e me dá poucas oportunidades de atuação distintas                                                                  1\n",
              "Quero trabalhar de casa                                                                                                                                      1\n",
              "Não tenho uma boa relação com meu líder/gestor, Gostaria de trabalhar em em outra área de atuação                                                            1\n",
              "Salário atual não corresponde ao mercado, Gostaria de trabalhar em em outra área de atuação, Carga horária de trabalho                                       1\n",
              "Não tenho uma boa relação com meu líder/gestor, Falta de oportunidade de crescimento no emprego atual, Gostaria de trabalhar em em outra área de atuação     1\n",
              "Name: count, Length: 174, dtype: int64"
            ],
            "text/html": [
              "<div>\n",
              "<style scoped>\n",
              "    .dataframe tbody tr th:only-of-type {\n",
              "        vertical-align: middle;\n",
              "    }\n",
              "\n",
              "    .dataframe tbody tr th {\n",
              "        vertical-align: top;\n",
              "    }\n",
              "\n",
              "    .dataframe thead th {\n",
              "        text-align: right;\n",
              "    }\n",
              "</style>\n",
              "<table border=\"1\" class=\"dataframe\">\n",
              "  <thead>\n",
              "    <tr style=\"text-align: right;\">\n",
              "      <th></th>\n",
              "      <th>count</th>\n",
              "    </tr>\n",
              "    <tr>\n",
              "      <th>Qual o principal motivo da sua insatisfação com a empresa atual?</th>\n",
              "      <th></th>\n",
              "    </tr>\n",
              "  </thead>\n",
              "  <tbody>\n",
              "    <tr>\n",
              "      <th>Gostaria de trabalhar em em outra área de atuação</th>\n",
              "      <td>69</td>\n",
              "    </tr>\n",
              "    <tr>\n",
              "      <th>Salário atual não corresponde ao mercado</th>\n",
              "      <td>53</td>\n",
              "    </tr>\n",
              "    <tr>\n",
              "      <th>Falta de oportunidade de crescimento no emprego atual</th>\n",
              "      <td>46</td>\n",
              "    </tr>\n",
              "    <tr>\n",
              "      <th>Falta de maturidade analítica na empresa</th>\n",
              "      <td>45</td>\n",
              "    </tr>\n",
              "    <tr>\n",
              "      <th>Falta de oportunidade de crescimento no emprego atual, Salário atual não corresponde ao mercado, Falta de maturidade analítica na empresa</th>\n",
              "      <td>26</td>\n",
              "    </tr>\n",
              "    <tr>\n",
              "      <th>...</th>\n",
              "      <td>...</td>\n",
              "    </tr>\n",
              "    <tr>\n",
              "      <th>Trabalho explora pouco minhas habilidades e me dá poucas oportunidades de atuação distintas</th>\n",
              "      <td>1</td>\n",
              "    </tr>\n",
              "    <tr>\n",
              "      <th>Quero trabalhar de casa</th>\n",
              "      <td>1</td>\n",
              "    </tr>\n",
              "    <tr>\n",
              "      <th>Não tenho uma boa relação com meu líder/gestor, Gostaria de trabalhar em em outra área de atuação</th>\n",
              "      <td>1</td>\n",
              "    </tr>\n",
              "    <tr>\n",
              "      <th>Salário atual não corresponde ao mercado, Gostaria de trabalhar em em outra área de atuação, Carga horária de trabalho</th>\n",
              "      <td>1</td>\n",
              "    </tr>\n",
              "    <tr>\n",
              "      <th>Não tenho uma boa relação com meu líder/gestor, Falta de oportunidade de crescimento no emprego atual, Gostaria de trabalhar em em outra área de atuação</th>\n",
              "      <td>1</td>\n",
              "    </tr>\n",
              "  </tbody>\n",
              "</table>\n",
              "<p>174 rows × 1 columns</p>\n",
              "</div><br><label><b>dtype:</b> int64</label>"
            ]
          },
          "metadata": {},
          "execution_count": 22
        }
      ]
    },
    {
      "cell_type": "code",
      "source": [
        "dados[\"INSATISFACAO\"] = 0"
      ],
      "metadata": {
        "id": "uAx9dBsxkxzF"
      },
      "execution_count": null,
      "outputs": []
    },
    {
      "cell_type": "code",
      "source": [
        "dados.loc[dados[\"Qual o principal motivo da sua insatisfação com a empresa atual?\"].notnull(), \"INSATISFACAO\" ] = dados.loc[dados[\"Qual o principal motivo da sua insatisfação com a empresa atual?\"].notnull(),\"Qual o principal motivo da sua insatisfação com a empresa atual?\"].apply(lambda x: 1 if 'Salário' in x else 0)"
      ],
      "metadata": {
        "id": "fHz5WgOllqFX"
      },
      "execution_count": null,
      "outputs": []
    },
    {
      "cell_type": "code",
      "source": [
        "dados[\"INSATISFACAO\"].value_counts()"
      ],
      "metadata": {
        "colab": {
          "base_uri": "https://localhost:8080/",
          "height": 178
        },
        "id": "i2yOtr7PuLsQ",
        "outputId": "c34ab6c9-3acc-45f4-b576-4b2891c9d60e"
      },
      "execution_count": null,
      "outputs": [
        {
          "output_type": "execute_result",
          "data": {
            "text/plain": [
              "INSATISFACAO\n",
              "0    2453\n",
              "1     279\n",
              "Name: count, dtype: int64"
            ],
            "text/html": [
              "<div>\n",
              "<style scoped>\n",
              "    .dataframe tbody tr th:only-of-type {\n",
              "        vertical-align: middle;\n",
              "    }\n",
              "\n",
              "    .dataframe tbody tr th {\n",
              "        vertical-align: top;\n",
              "    }\n",
              "\n",
              "    .dataframe thead th {\n",
              "        text-align: right;\n",
              "    }\n",
              "</style>\n",
              "<table border=\"1\" class=\"dataframe\">\n",
              "  <thead>\n",
              "    <tr style=\"text-align: right;\">\n",
              "      <th></th>\n",
              "      <th>count</th>\n",
              "    </tr>\n",
              "    <tr>\n",
              "      <th>INSATISFACAO</th>\n",
              "      <th></th>\n",
              "    </tr>\n",
              "  </thead>\n",
              "  <tbody>\n",
              "    <tr>\n",
              "      <th>0</th>\n",
              "      <td>2453</td>\n",
              "    </tr>\n",
              "    <tr>\n",
              "      <th>1</th>\n",
              "      <td>279</td>\n",
              "    </tr>\n",
              "  </tbody>\n",
              "</table>\n",
              "</div><br><label><b>dtype:</b> int64</label>"
            ]
          },
          "metadata": {},
          "execution_count": 25
        }
      ]
    },
    {
      "cell_type": "code",
      "source": [
        "dados[\"NIVEL DE ENSINO\"].value_counts()"
      ],
      "metadata": {
        "colab": {
          "base_uri": "https://localhost:8080/",
          "height": 335
        },
        "id": "WU4ihcmRx6lF",
        "outputId": "25bafafe-eaba-4c3e-df4e-c97daa298f0f"
      },
      "execution_count": null,
      "outputs": [
        {
          "output_type": "execute_result",
          "data": {
            "text/plain": [
              "NIVEL DE ENSINO\n",
              "Graduação/Bacharelado         1024\n",
              "Pós-graduação                  975\n",
              "Mestrado                       306\n",
              "Estudante de Graduação         271\n",
              "Doutorado ou Phd               100\n",
              "Não tenho graduação formal      52\n",
              "Prefiro não informar             4\n",
              "Name: count, dtype: int64"
            ],
            "text/html": [
              "<div>\n",
              "<style scoped>\n",
              "    .dataframe tbody tr th:only-of-type {\n",
              "        vertical-align: middle;\n",
              "    }\n",
              "\n",
              "    .dataframe tbody tr th {\n",
              "        vertical-align: top;\n",
              "    }\n",
              "\n",
              "    .dataframe thead th {\n",
              "        text-align: right;\n",
              "    }\n",
              "</style>\n",
              "<table border=\"1\" class=\"dataframe\">\n",
              "  <thead>\n",
              "    <tr style=\"text-align: right;\">\n",
              "      <th></th>\n",
              "      <th>count</th>\n",
              "    </tr>\n",
              "    <tr>\n",
              "      <th>NIVEL DE ENSINO</th>\n",
              "      <th></th>\n",
              "    </tr>\n",
              "  </thead>\n",
              "  <tbody>\n",
              "    <tr>\n",
              "      <th>Graduação/Bacharelado</th>\n",
              "      <td>1024</td>\n",
              "    </tr>\n",
              "    <tr>\n",
              "      <th>Pós-graduação</th>\n",
              "      <td>975</td>\n",
              "    </tr>\n",
              "    <tr>\n",
              "      <th>Mestrado</th>\n",
              "      <td>306</td>\n",
              "    </tr>\n",
              "    <tr>\n",
              "      <th>Estudante de Graduação</th>\n",
              "      <td>271</td>\n",
              "    </tr>\n",
              "    <tr>\n",
              "      <th>Doutorado ou Phd</th>\n",
              "      <td>100</td>\n",
              "    </tr>\n",
              "    <tr>\n",
              "      <th>Não tenho graduação formal</th>\n",
              "      <td>52</td>\n",
              "    </tr>\n",
              "    <tr>\n",
              "      <th>Prefiro não informar</th>\n",
              "      <td>4</td>\n",
              "    </tr>\n",
              "  </tbody>\n",
              "</table>\n",
              "</div><br><label><b>dtype:</b> int64</label>"
            ]
          },
          "metadata": {},
          "execution_count": 26
        }
      ]
    },
    {
      "cell_type": "code",
      "source": [
        "dados[\"NIVEL DE ENSINO\"] = dados[\"NIVEL DE ENSINO\"].apply(lambda x: 0 if x == \"Não tenho graduação formal\" else\n",
        "                               1 if x == \"Estudante de Graduação\" else\n",
        "                               2 if x == \"Graduação/Bacharelado\t\" else\n",
        "                               3 if x == \"Pós-graduação\" else\n",
        "                               4 if x == \"Mestrado\" else\n",
        "                               5 if x == \"Doutorado ou Phd\" else -1)"
      ],
      "metadata": {
        "id": "2ZvAyvvbyNLB"
      },
      "execution_count": null,
      "outputs": []
    },
    {
      "cell_type": "code",
      "source": [
        "dados.columns"
      ],
      "metadata": {
        "colab": {
          "base_uri": "https://localhost:8080/"
        },
        "id": "hnbJQePEhXgG",
        "outputId": "069103cb-2524-4c77-883a-a0d9cec8bbde"
      },
      "execution_count": null,
      "outputs": [
        {
          "output_type": "execute_result",
          "data": {
            "text/plain": [
              "Index(['ID', 'IDADE', 'FAIXA IDADE', 'GENERO', 'COR/RACA/ETNIA', 'PCD',\n",
              "       'EXPERIENCIA_PROFISSIONAL_PREJUDICADA', 'ASPECTOS_PREJUDICADOS',\n",
              "       'VIVE_NO_BRASIL', 'ESTADO ONDE MORA', 'UF ONDE MORA',\n",
              "       'REGIAO ONDE MORA', 'MUDOU DE ESTADO?', 'REGIAO DE ORIGEM',\n",
              "       'NIVEL DE ENSINO', 'ÁREA DE FORMAÇÃO',\n",
              "       'QUAL SUA SITUAÇÃO ATUAL DE TRABALHO?', 'SETOR',\n",
              "       'NUMERO DE FUNCIONARIOS', 'GESTOR?', 'CARGO COMO GESTOR', 'CARGO ATUAL',\n",
              "       'FAIXA SALARIAL',\n",
              "       'QUANTO TEMPO DE EXPERIÊNCIA NA ÁREA DE DADOS VOCÊ TEM?',\n",
              "       'QUANTO TEMPO DE EXPERIÊNCIA NA ÁREA DE TI/ENGENHARIA DE SOFTWARE VOCÊ TEVE ANTES DE COMEÇAR A TRABALHAR NA ÁREA DE DADOS?',\n",
              "       'SALARIO', 'NOVO_NIVEL', 'NIVEL_Júnior', 'NIVEL_Pleno', 'NIVEL_Sênior',\n",
              "       'GEARACAO', 'Quanto tempo de experiência na área de dados você tem?',\n",
              "       'Quanto tempo de experiência na área de TI/Engenharia de Software você teve antes de começar a trabalhar na área de dados?',\n",
              "       'Você está satisfeito na sua empresa atual?',\n",
              "       'Qual o principal motivo da sua insatisfação com a empresa atual?',\n",
              "       'Você participou de entrevistas de emprego nos últimos 6 meses?',\n",
              "       'Você pretende mudar de emprego nos próximos 6 meses?',\n",
              "       'Quais os principais critérios que você leva em consideração no momento de decidir onde trabalhar?',\n",
              "       'Atualmente qual a sua forma de trabalho?',\n",
              "       'Qual a forma de trabalho ideal para você?',\n",
              "       'Caso sua empresa decida pelo modelo 100% presencial qual será sua atitude?',\n",
              "       'Sua empresa passu por Layoff em 2022?', 'Atuacao',\n",
              "       'Quais das linguagens listadas abaixo você utiliza no trabalho?',\n",
              "       'EM_BUSCA', 'ABERTO_OPORTUNIDADES', 'NAO_BRANCA', 'TEMPO_EXPERIENCIA',\n",
              "       'INSATISFACAO'],\n",
              "      dtype='object')"
            ]
          },
          "metadata": {},
          "execution_count": 28
        }
      ]
    },
    {
      "cell_type": "code",
      "source": [
        "dados = dados[[\"IDADE\", \"GENERO\", \"NAO_BRANCA\", \"TEMPO_EXPERIENCIA\", \"INSATISFACAO\", \"SETOR\", \"REGIAO ONDE MORA\",\n",
        "       \"NIVEL DE ENSINO\", \"NUMERO DE FUNCIONARIOS\", \"SALARIO\", \"NOVO_NIVEL\"]]"
      ],
      "metadata": {
        "id": "Y2GxCjxfiZ9u"
      },
      "execution_count": null,
      "outputs": []
    },
    {
      "cell_type": "code",
      "source": [
        "dados.columns"
      ],
      "metadata": {
        "colab": {
          "base_uri": "https://localhost:8080/"
        },
        "id": "V_UDv1r6jnBZ",
        "outputId": "4aab2f59-bd92-4846-c4ef-534869cb3ec5"
      },
      "execution_count": null,
      "outputs": [
        {
          "output_type": "execute_result",
          "data": {
            "text/plain": [
              "Index(['IDADE', 'GENERO', 'NAO_BRANCA', 'TEMPO_EXPERIENCIA', 'INSATISFACAO',\n",
              "       'SETOR', 'REGIAO ONDE MORA', 'NIVEL DE ENSINO',\n",
              "       'NUMERO DE FUNCIONARIOS', 'SALARIO', 'NOVO_NIVEL'],\n",
              "      dtype='object')"
            ]
          },
          "metadata": {},
          "execution_count": 30
        }
      ]
    },
    {
      "cell_type": "code",
      "source": [
        "dados = pd.get_dummies(dados, columns=[\"GENERO\", \"REGIAO ONDE MORA\", \"NOVO_NIVEL\", \"SETOR\"], drop_first=True)"
      ],
      "metadata": {
        "id": "JmbOSOvakBxC"
      },
      "execution_count": null,
      "outputs": []
    },
    {
      "cell_type": "code",
      "source": [
        "X = dados.drop(\"SALARIO\", axis=1)\n",
        "y = dados[\"SALARIO\"]"
      ],
      "metadata": {
        "id": "cO43cPmClPnc"
      },
      "execution_count": null,
      "outputs": []
    },
    {
      "cell_type": "code",
      "source": [
        "from sklearn.model_selection import train_test_split"
      ],
      "metadata": {
        "id": "PknmHfQRnkOD"
      },
      "execution_count": null,
      "outputs": []
    },
    {
      "cell_type": "code",
      "source": [
        "X_train, X_test, y_train, y_test = train_test_split(X, y, test_size=0.2, random_state=42)"
      ],
      "metadata": {
        "id": "rtbT5Z5goE0Y"
      },
      "execution_count": null,
      "outputs": []
    },
    {
      "cell_type": "code",
      "source": [
        "from sklearn.preprocessing import StandardScaler"
      ],
      "metadata": {
        "id": "nZky9N6_pwUa"
      },
      "execution_count": null,
      "outputs": []
    },
    {
      "cell_type": "code",
      "source": [
        "scaler = StandardScaler()\n",
        "\n",
        "X_train_scaled = scaler.fit_transform(X_train)\n",
        "X_test_scaled = scaler.fit_transform(X_test)"
      ],
      "metadata": {
        "id": "QXAtD_TAqJf6"
      },
      "execution_count": null,
      "outputs": []
    },
    {
      "cell_type": "code",
      "source": [
        "from sklearn.linear_model import LinearRegression"
      ],
      "metadata": {
        "id": "kaaVO2D4qzbd"
      },
      "execution_count": null,
      "outputs": []
    },
    {
      "cell_type": "code",
      "source": [
        "model = LinearRegression()"
      ],
      "metadata": {
        "id": "1uaZ8_1t0b0v"
      },
      "execution_count": null,
      "outputs": []
    },
    {
      "cell_type": "code",
      "source": [
        "model.fit(X_train_scaled, y_train)"
      ],
      "metadata": {
        "colab": {
          "base_uri": "https://localhost:8080/",
          "height": 80
        },
        "id": "gNa98BPg0rq6",
        "outputId": "362f834d-345b-4b4a-cce0-bde1e718f7d8"
      },
      "execution_count": null,
      "outputs": [
        {
          "output_type": "execute_result",
          "data": {
            "text/plain": [
              "LinearRegression()"
            ],
            "text/html": [
              "<style>#sk-container-id-3 {\n",
              "  /* Definition of color scheme common for light and dark mode */\n",
              "  --sklearn-color-text: #000;\n",
              "  --sklearn-color-text-muted: #666;\n",
              "  --sklearn-color-line: gray;\n",
              "  /* Definition of color scheme for unfitted estimators */\n",
              "  --sklearn-color-unfitted-level-0: #fff5e6;\n",
              "  --sklearn-color-unfitted-level-1: #f6e4d2;\n",
              "  --sklearn-color-unfitted-level-2: #ffe0b3;\n",
              "  --sklearn-color-unfitted-level-3: chocolate;\n",
              "  /* Definition of color scheme for fitted estimators */\n",
              "  --sklearn-color-fitted-level-0: #f0f8ff;\n",
              "  --sklearn-color-fitted-level-1: #d4ebff;\n",
              "  --sklearn-color-fitted-level-2: #b3dbfd;\n",
              "  --sklearn-color-fitted-level-3: cornflowerblue;\n",
              "\n",
              "  /* Specific color for light theme */\n",
              "  --sklearn-color-text-on-default-background: var(--sg-text-color, var(--theme-code-foreground, var(--jp-content-font-color1, black)));\n",
              "  --sklearn-color-background: var(--sg-background-color, var(--theme-background, var(--jp-layout-color0, white)));\n",
              "  --sklearn-color-border-box: var(--sg-text-color, var(--theme-code-foreground, var(--jp-content-font-color1, black)));\n",
              "  --sklearn-color-icon: #696969;\n",
              "\n",
              "  @media (prefers-color-scheme: dark) {\n",
              "    /* Redefinition of color scheme for dark theme */\n",
              "    --sklearn-color-text-on-default-background: var(--sg-text-color, var(--theme-code-foreground, var(--jp-content-font-color1, white)));\n",
              "    --sklearn-color-background: var(--sg-background-color, var(--theme-background, var(--jp-layout-color0, #111)));\n",
              "    --sklearn-color-border-box: var(--sg-text-color, var(--theme-code-foreground, var(--jp-content-font-color1, white)));\n",
              "    --sklearn-color-icon: #878787;\n",
              "  }\n",
              "}\n",
              "\n",
              "#sk-container-id-3 {\n",
              "  color: var(--sklearn-color-text);\n",
              "}\n",
              "\n",
              "#sk-container-id-3 pre {\n",
              "  padding: 0;\n",
              "}\n",
              "\n",
              "#sk-container-id-3 input.sk-hidden--visually {\n",
              "  border: 0;\n",
              "  clip: rect(1px 1px 1px 1px);\n",
              "  clip: rect(1px, 1px, 1px, 1px);\n",
              "  height: 1px;\n",
              "  margin: -1px;\n",
              "  overflow: hidden;\n",
              "  padding: 0;\n",
              "  position: absolute;\n",
              "  width: 1px;\n",
              "}\n",
              "\n",
              "#sk-container-id-3 div.sk-dashed-wrapped {\n",
              "  border: 1px dashed var(--sklearn-color-line);\n",
              "  margin: 0 0.4em 0.5em 0.4em;\n",
              "  box-sizing: border-box;\n",
              "  padding-bottom: 0.4em;\n",
              "  background-color: var(--sklearn-color-background);\n",
              "}\n",
              "\n",
              "#sk-container-id-3 div.sk-container {\n",
              "  /* jupyter's `normalize.less` sets `[hidden] { display: none; }`\n",
              "     but bootstrap.min.css set `[hidden] { display: none !important; }`\n",
              "     so we also need the `!important` here to be able to override the\n",
              "     default hidden behavior on the sphinx rendered scikit-learn.org.\n",
              "     See: https://github.com/scikit-learn/scikit-learn/issues/21755 */\n",
              "  display: inline-block !important;\n",
              "  position: relative;\n",
              "}\n",
              "\n",
              "#sk-container-id-3 div.sk-text-repr-fallback {\n",
              "  display: none;\n",
              "}\n",
              "\n",
              "div.sk-parallel-item,\n",
              "div.sk-serial,\n",
              "div.sk-item {\n",
              "  /* draw centered vertical line to link estimators */\n",
              "  background-image: linear-gradient(var(--sklearn-color-text-on-default-background), var(--sklearn-color-text-on-default-background));\n",
              "  background-size: 2px 100%;\n",
              "  background-repeat: no-repeat;\n",
              "  background-position: center center;\n",
              "}\n",
              "\n",
              "/* Parallel-specific style estimator block */\n",
              "\n",
              "#sk-container-id-3 div.sk-parallel-item::after {\n",
              "  content: \"\";\n",
              "  width: 100%;\n",
              "  border-bottom: 2px solid var(--sklearn-color-text-on-default-background);\n",
              "  flex-grow: 1;\n",
              "}\n",
              "\n",
              "#sk-container-id-3 div.sk-parallel {\n",
              "  display: flex;\n",
              "  align-items: stretch;\n",
              "  justify-content: center;\n",
              "  background-color: var(--sklearn-color-background);\n",
              "  position: relative;\n",
              "}\n",
              "\n",
              "#sk-container-id-3 div.sk-parallel-item {\n",
              "  display: flex;\n",
              "  flex-direction: column;\n",
              "}\n",
              "\n",
              "#sk-container-id-3 div.sk-parallel-item:first-child::after {\n",
              "  align-self: flex-end;\n",
              "  width: 50%;\n",
              "}\n",
              "\n",
              "#sk-container-id-3 div.sk-parallel-item:last-child::after {\n",
              "  align-self: flex-start;\n",
              "  width: 50%;\n",
              "}\n",
              "\n",
              "#sk-container-id-3 div.sk-parallel-item:only-child::after {\n",
              "  width: 0;\n",
              "}\n",
              "\n",
              "/* Serial-specific style estimator block */\n",
              "\n",
              "#sk-container-id-3 div.sk-serial {\n",
              "  display: flex;\n",
              "  flex-direction: column;\n",
              "  align-items: center;\n",
              "  background-color: var(--sklearn-color-background);\n",
              "  padding-right: 1em;\n",
              "  padding-left: 1em;\n",
              "}\n",
              "\n",
              "\n",
              "/* Toggleable style: style used for estimator/Pipeline/ColumnTransformer box that is\n",
              "clickable and can be expanded/collapsed.\n",
              "- Pipeline and ColumnTransformer use this feature and define the default style\n",
              "- Estimators will overwrite some part of the style using the `sk-estimator` class\n",
              "*/\n",
              "\n",
              "/* Pipeline and ColumnTransformer style (default) */\n",
              "\n",
              "#sk-container-id-3 div.sk-toggleable {\n",
              "  /* Default theme specific background. It is overwritten whether we have a\n",
              "  specific estimator or a Pipeline/ColumnTransformer */\n",
              "  background-color: var(--sklearn-color-background);\n",
              "}\n",
              "\n",
              "/* Toggleable label */\n",
              "#sk-container-id-3 label.sk-toggleable__label {\n",
              "  cursor: pointer;\n",
              "  display: flex;\n",
              "  width: 100%;\n",
              "  margin-bottom: 0;\n",
              "  padding: 0.5em;\n",
              "  box-sizing: border-box;\n",
              "  text-align: center;\n",
              "  align-items: start;\n",
              "  justify-content: space-between;\n",
              "  gap: 0.5em;\n",
              "}\n",
              "\n",
              "#sk-container-id-3 label.sk-toggleable__label .caption {\n",
              "  font-size: 0.6rem;\n",
              "  font-weight: lighter;\n",
              "  color: var(--sklearn-color-text-muted);\n",
              "}\n",
              "\n",
              "#sk-container-id-3 label.sk-toggleable__label-arrow:before {\n",
              "  /* Arrow on the left of the label */\n",
              "  content: \"▸\";\n",
              "  float: left;\n",
              "  margin-right: 0.25em;\n",
              "  color: var(--sklearn-color-icon);\n",
              "}\n",
              "\n",
              "#sk-container-id-3 label.sk-toggleable__label-arrow:hover:before {\n",
              "  color: var(--sklearn-color-text);\n",
              "}\n",
              "\n",
              "/* Toggleable content - dropdown */\n",
              "\n",
              "#sk-container-id-3 div.sk-toggleable__content {\n",
              "  max-height: 0;\n",
              "  max-width: 0;\n",
              "  overflow: hidden;\n",
              "  text-align: left;\n",
              "  /* unfitted */\n",
              "  background-color: var(--sklearn-color-unfitted-level-0);\n",
              "}\n",
              "\n",
              "#sk-container-id-3 div.sk-toggleable__content.fitted {\n",
              "  /* fitted */\n",
              "  background-color: var(--sklearn-color-fitted-level-0);\n",
              "}\n",
              "\n",
              "#sk-container-id-3 div.sk-toggleable__content pre {\n",
              "  margin: 0.2em;\n",
              "  border-radius: 0.25em;\n",
              "  color: var(--sklearn-color-text);\n",
              "  /* unfitted */\n",
              "  background-color: var(--sklearn-color-unfitted-level-0);\n",
              "}\n",
              "\n",
              "#sk-container-id-3 div.sk-toggleable__content.fitted pre {\n",
              "  /* unfitted */\n",
              "  background-color: var(--sklearn-color-fitted-level-0);\n",
              "}\n",
              "\n",
              "#sk-container-id-3 input.sk-toggleable__control:checked~div.sk-toggleable__content {\n",
              "  /* Expand drop-down */\n",
              "  max-height: 200px;\n",
              "  max-width: 100%;\n",
              "  overflow: auto;\n",
              "}\n",
              "\n",
              "#sk-container-id-3 input.sk-toggleable__control:checked~label.sk-toggleable__label-arrow:before {\n",
              "  content: \"▾\";\n",
              "}\n",
              "\n",
              "/* Pipeline/ColumnTransformer-specific style */\n",
              "\n",
              "#sk-container-id-3 div.sk-label input.sk-toggleable__control:checked~label.sk-toggleable__label {\n",
              "  color: var(--sklearn-color-text);\n",
              "  background-color: var(--sklearn-color-unfitted-level-2);\n",
              "}\n",
              "\n",
              "#sk-container-id-3 div.sk-label.fitted input.sk-toggleable__control:checked~label.sk-toggleable__label {\n",
              "  background-color: var(--sklearn-color-fitted-level-2);\n",
              "}\n",
              "\n",
              "/* Estimator-specific style */\n",
              "\n",
              "/* Colorize estimator box */\n",
              "#sk-container-id-3 div.sk-estimator input.sk-toggleable__control:checked~label.sk-toggleable__label {\n",
              "  /* unfitted */\n",
              "  background-color: var(--sklearn-color-unfitted-level-2);\n",
              "}\n",
              "\n",
              "#sk-container-id-3 div.sk-estimator.fitted input.sk-toggleable__control:checked~label.sk-toggleable__label {\n",
              "  /* fitted */\n",
              "  background-color: var(--sklearn-color-fitted-level-2);\n",
              "}\n",
              "\n",
              "#sk-container-id-3 div.sk-label label.sk-toggleable__label,\n",
              "#sk-container-id-3 div.sk-label label {\n",
              "  /* The background is the default theme color */\n",
              "  color: var(--sklearn-color-text-on-default-background);\n",
              "}\n",
              "\n",
              "/* On hover, darken the color of the background */\n",
              "#sk-container-id-3 div.sk-label:hover label.sk-toggleable__label {\n",
              "  color: var(--sklearn-color-text);\n",
              "  background-color: var(--sklearn-color-unfitted-level-2);\n",
              "}\n",
              "\n",
              "/* Label box, darken color on hover, fitted */\n",
              "#sk-container-id-3 div.sk-label.fitted:hover label.sk-toggleable__label.fitted {\n",
              "  color: var(--sklearn-color-text);\n",
              "  background-color: var(--sklearn-color-fitted-level-2);\n",
              "}\n",
              "\n",
              "/* Estimator label */\n",
              "\n",
              "#sk-container-id-3 div.sk-label label {\n",
              "  font-family: monospace;\n",
              "  font-weight: bold;\n",
              "  display: inline-block;\n",
              "  line-height: 1.2em;\n",
              "}\n",
              "\n",
              "#sk-container-id-3 div.sk-label-container {\n",
              "  text-align: center;\n",
              "}\n",
              "\n",
              "/* Estimator-specific */\n",
              "#sk-container-id-3 div.sk-estimator {\n",
              "  font-family: monospace;\n",
              "  border: 1px dotted var(--sklearn-color-border-box);\n",
              "  border-radius: 0.25em;\n",
              "  box-sizing: border-box;\n",
              "  margin-bottom: 0.5em;\n",
              "  /* unfitted */\n",
              "  background-color: var(--sklearn-color-unfitted-level-0);\n",
              "}\n",
              "\n",
              "#sk-container-id-3 div.sk-estimator.fitted {\n",
              "  /* fitted */\n",
              "  background-color: var(--sklearn-color-fitted-level-0);\n",
              "}\n",
              "\n",
              "/* on hover */\n",
              "#sk-container-id-3 div.sk-estimator:hover {\n",
              "  /* unfitted */\n",
              "  background-color: var(--sklearn-color-unfitted-level-2);\n",
              "}\n",
              "\n",
              "#sk-container-id-3 div.sk-estimator.fitted:hover {\n",
              "  /* fitted */\n",
              "  background-color: var(--sklearn-color-fitted-level-2);\n",
              "}\n",
              "\n",
              "/* Specification for estimator info (e.g. \"i\" and \"?\") */\n",
              "\n",
              "/* Common style for \"i\" and \"?\" */\n",
              "\n",
              ".sk-estimator-doc-link,\n",
              "a:link.sk-estimator-doc-link,\n",
              "a:visited.sk-estimator-doc-link {\n",
              "  float: right;\n",
              "  font-size: smaller;\n",
              "  line-height: 1em;\n",
              "  font-family: monospace;\n",
              "  background-color: var(--sklearn-color-background);\n",
              "  border-radius: 1em;\n",
              "  height: 1em;\n",
              "  width: 1em;\n",
              "  text-decoration: none !important;\n",
              "  margin-left: 0.5em;\n",
              "  text-align: center;\n",
              "  /* unfitted */\n",
              "  border: var(--sklearn-color-unfitted-level-1) 1pt solid;\n",
              "  color: var(--sklearn-color-unfitted-level-1);\n",
              "}\n",
              "\n",
              ".sk-estimator-doc-link.fitted,\n",
              "a:link.sk-estimator-doc-link.fitted,\n",
              "a:visited.sk-estimator-doc-link.fitted {\n",
              "  /* fitted */\n",
              "  border: var(--sklearn-color-fitted-level-1) 1pt solid;\n",
              "  color: var(--sklearn-color-fitted-level-1);\n",
              "}\n",
              "\n",
              "/* On hover */\n",
              "div.sk-estimator:hover .sk-estimator-doc-link:hover,\n",
              ".sk-estimator-doc-link:hover,\n",
              "div.sk-label-container:hover .sk-estimator-doc-link:hover,\n",
              ".sk-estimator-doc-link:hover {\n",
              "  /* unfitted */\n",
              "  background-color: var(--sklearn-color-unfitted-level-3);\n",
              "  color: var(--sklearn-color-background);\n",
              "  text-decoration: none;\n",
              "}\n",
              "\n",
              "div.sk-estimator.fitted:hover .sk-estimator-doc-link.fitted:hover,\n",
              ".sk-estimator-doc-link.fitted:hover,\n",
              "div.sk-label-container:hover .sk-estimator-doc-link.fitted:hover,\n",
              ".sk-estimator-doc-link.fitted:hover {\n",
              "  /* fitted */\n",
              "  background-color: var(--sklearn-color-fitted-level-3);\n",
              "  color: var(--sklearn-color-background);\n",
              "  text-decoration: none;\n",
              "}\n",
              "\n",
              "/* Span, style for the box shown on hovering the info icon */\n",
              ".sk-estimator-doc-link span {\n",
              "  display: none;\n",
              "  z-index: 9999;\n",
              "  position: relative;\n",
              "  font-weight: normal;\n",
              "  right: .2ex;\n",
              "  padding: .5ex;\n",
              "  margin: .5ex;\n",
              "  width: min-content;\n",
              "  min-width: 20ex;\n",
              "  max-width: 50ex;\n",
              "  color: var(--sklearn-color-text);\n",
              "  box-shadow: 2pt 2pt 4pt #999;\n",
              "  /* unfitted */\n",
              "  background: var(--sklearn-color-unfitted-level-0);\n",
              "  border: .5pt solid var(--sklearn-color-unfitted-level-3);\n",
              "}\n",
              "\n",
              ".sk-estimator-doc-link.fitted span {\n",
              "  /* fitted */\n",
              "  background: var(--sklearn-color-fitted-level-0);\n",
              "  border: var(--sklearn-color-fitted-level-3);\n",
              "}\n",
              "\n",
              ".sk-estimator-doc-link:hover span {\n",
              "  display: block;\n",
              "}\n",
              "\n",
              "/* \"?\"-specific style due to the `<a>` HTML tag */\n",
              "\n",
              "#sk-container-id-3 a.estimator_doc_link {\n",
              "  float: right;\n",
              "  font-size: 1rem;\n",
              "  line-height: 1em;\n",
              "  font-family: monospace;\n",
              "  background-color: var(--sklearn-color-background);\n",
              "  border-radius: 1rem;\n",
              "  height: 1rem;\n",
              "  width: 1rem;\n",
              "  text-decoration: none;\n",
              "  /* unfitted */\n",
              "  color: var(--sklearn-color-unfitted-level-1);\n",
              "  border: var(--sklearn-color-unfitted-level-1) 1pt solid;\n",
              "}\n",
              "\n",
              "#sk-container-id-3 a.estimator_doc_link.fitted {\n",
              "  /* fitted */\n",
              "  border: var(--sklearn-color-fitted-level-1) 1pt solid;\n",
              "  color: var(--sklearn-color-fitted-level-1);\n",
              "}\n",
              "\n",
              "/* On hover */\n",
              "#sk-container-id-3 a.estimator_doc_link:hover {\n",
              "  /* unfitted */\n",
              "  background-color: var(--sklearn-color-unfitted-level-3);\n",
              "  color: var(--sklearn-color-background);\n",
              "  text-decoration: none;\n",
              "}\n",
              "\n",
              "#sk-container-id-3 a.estimator_doc_link.fitted:hover {\n",
              "  /* fitted */\n",
              "  background-color: var(--sklearn-color-fitted-level-3);\n",
              "}\n",
              "</style><div id=\"sk-container-id-3\" class=\"sk-top-container\"><div class=\"sk-text-repr-fallback\"><pre>LinearRegression()</pre><b>In a Jupyter environment, please rerun this cell to show the HTML representation or trust the notebook. <br />On GitHub, the HTML representation is unable to render, please try loading this page with nbviewer.org.</b></div><div class=\"sk-container\" hidden><div class=\"sk-item\"><div class=\"sk-estimator fitted sk-toggleable\"><input class=\"sk-toggleable__control sk-hidden--visually\" id=\"sk-estimator-id-3\" type=\"checkbox\" checked><label for=\"sk-estimator-id-3\" class=\"sk-toggleable__label fitted sk-toggleable__label-arrow\"><div><div>LinearRegression</div></div><div><a class=\"sk-estimator-doc-link fitted\" rel=\"noreferrer\" target=\"_blank\" href=\"https://scikit-learn.org/1.6/modules/generated/sklearn.linear_model.LinearRegression.html\">?<span>Documentation for LinearRegression</span></a><span class=\"sk-estimator-doc-link fitted\">i<span>Fitted</span></span></div></label><div class=\"sk-toggleable__content fitted\"><pre>LinearRegression()</pre></div> </div></div></div></div>"
            ]
          },
          "metadata": {},
          "execution_count": 41
        }
      ]
    },
    {
      "cell_type": "code",
      "source": [
        "y_pred = model.predict(X_test_scaled)"
      ],
      "metadata": {
        "id": "fn-xNo951IpR"
      },
      "execution_count": null,
      "outputs": []
    },
    {
      "cell_type": "code",
      "source": [
        "from sklearn.metrics import mean_squared_error, r2_score, mean_absolute_error"
      ],
      "metadata": {
        "id": "F2UASd0x13UF"
      },
      "execution_count": null,
      "outputs": []
    },
    {
      "cell_type": "code",
      "source": [
        "mse = mean_squared_error(y_test, y_pred)"
      ],
      "metadata": {
        "id": "e95W4Wgj4EYo"
      },
      "execution_count": null,
      "outputs": []
    },
    {
      "cell_type": "code",
      "source": [
        "mse"
      ],
      "metadata": {
        "colab": {
          "base_uri": "https://localhost:8080/"
        },
        "id": "hTv6Zp_R4tG0",
        "outputId": "1c52f366-da65-42df-8dc2-385b011f0468"
      },
      "execution_count": null,
      "outputs": [
        {
          "output_type": "execute_result",
          "data": {
            "text/plain": [
              "23917467.332045767"
            ]
          },
          "metadata": {},
          "execution_count": 46
        }
      ]
    },
    {
      "cell_type": "code",
      "source": [
        "mae = mean_absolute_error(y_test, y_pred)"
      ],
      "metadata": {
        "id": "w-HjgG3G4t5a"
      },
      "execution_count": null,
      "outputs": []
    },
    {
      "cell_type": "code",
      "source": [
        "mae"
      ],
      "metadata": {
        "colab": {
          "base_uri": "https://localhost:8080/"
        },
        "id": "95YWksZ8_Izf",
        "outputId": "5e1a650c-7c6f-4e30-cb66-7a6eb378c407"
      },
      "execution_count": null,
      "outputs": [
        {
          "output_type": "execute_result",
          "data": {
            "text/plain": [
              "3356.9494589667247"
            ]
          },
          "metadata": {},
          "execution_count": 49
        }
      ]
    },
    {
      "cell_type": "code",
      "source": [
        "r2 = r2_score(y_test, y_pred)"
      ],
      "metadata": {
        "id": "jKpgpfgy_JgA"
      },
      "execution_count": null,
      "outputs": []
    },
    {
      "cell_type": "code",
      "source": [
        "r2"
      ],
      "metadata": {
        "colab": {
          "base_uri": "https://localhost:8080/"
        },
        "id": "yPc-A695_XpE",
        "outputId": "a3ade2f5-6bcd-4413-a552-7d00a7cf1f55"
      },
      "execution_count": null,
      "outputs": [
        {
          "output_type": "execute_result",
          "data": {
            "text/plain": [
              "0.5120099494182878"
            ]
          },
          "metadata": {},
          "execution_count": 51
        }
      ]
    },
    {
      "cell_type": "code",
      "source": [
        "import matplotlib.pyplot as plt"
      ],
      "metadata": {
        "id": "vGnhOm97_YR2"
      },
      "execution_count": null,
      "outputs": []
    },
    {
      "cell_type": "code",
      "source": [
        "plt.figure(figsize=(8,4))\n",
        "plt.scatter(y_test, y_pred, alpha=0.5)\n",
        "plt.xlabel(\"Valor real\")\n",
        "plt.ylabel(\"Valor predito\")\n",
        "plt.title(\"Dispersão dos dados\")\n",
        "plt.plot([min(y_test), max(y_test)], [min(y_test), max(y_test)], color=\"red\", linewidth=2)\n",
        "plt.show()"
      ],
      "metadata": {
        "colab": {
          "base_uri": "https://localhost:8080/",
          "height": 410
        },
        "id": "Wo3xvz8bAYLH",
        "outputId": "95f9c2eb-3a22-4ced-a9da-2ad8683026fc"
      },
      "execution_count": null,
      "outputs": [
        {
          "output_type": "display_data",
          "data": {
            "text/plain": [
              "<Figure size 800x400 with 1 Axes>"
            ],
            "image/png": "[encoded data removed]"
          },
          "metadata": {}
        }
      ]
    },
    {
      "cell_type": "code",
      "source": [
        "nomes_atributos = X_train.columns"
      ],
      "metadata": {
        "id": "UENZ11B3CgqB"
      },
      "execution_count": null,
      "outputs": []
    },
    {
      "cell_type": "code",
      "source": [
        "nomes_atributos"
      ],
      "metadata": {
        "colab": {
          "base_uri": "https://localhost:8080/"
        },
        "id": "B4XM-BSaEwHQ",
        "outputId": "f2e2e271-6e42-44de-8592-1f76eabade0a"
      },
      "execution_count": null,
      "outputs": [
        {
          "output_type": "execute_result",
          "data": {
            "text/plain": [
              "Index(['IDADE', 'NAO_BRANCA', 'TEMPO_EXPERIENCIA', 'INSATISFACAO',\n",
              "       'NIVEL DE ENSINO', 'NUMERO DE FUNCIONARIOS', 'GENERO_Masculino',\n",
              "       'GENERO_Prefiro não informar', 'REGIAO ONDE MORA_Nordeste',\n",
              "       'REGIAO ONDE MORA_Norte', 'REGIAO ONDE MORA_Sudeste',\n",
              "       'REGIAO ONDE MORA_Sul', 'NOVO_NIVEL_Pessoa Gestora', 'NOVO_NIVEL_Pleno',\n",
              "       'NOVO_NIVEL_Sênior', 'SETOR_Educação',\n",
              "       'SETOR_Entretenimento ou Esportes', 'SETOR_Filantropia/ONG's',\n",
              "       'SETOR_Finanças ou Bancos', 'SETOR_Indústria',\n",
              "       'SETOR_Internet/Ecommerce', 'SETOR_Marketing', 'SETOR_Outra Opção',\n",
              "       'SETOR_Seguros ou Previdência', 'SETOR_Setor Alimentício',\n",
              "       'SETOR_Setor Automotivo', 'SETOR_Setor Farmaceutico',\n",
              "       'SETOR_Setor Imobiliário/ Construção Civil', 'SETOR_Setor Público',\n",
              "       'SETOR_Setor de Energia', 'SETOR_Tecnologia/Fábrica de Software',\n",
              "       'SETOR_Telecomunicação', 'SETOR_Varejo', 'SETOR_Área da Saúde',\n",
              "       'SETOR_Área de Consultoria'],\n",
              "      dtype='object')"
            ]
          },
          "metadata": {},
          "execution_count": 58
        }
      ]
    },
    {
      "cell_type": "code",
      "source": [
        "coefs = pd.DataFrame(model.coef_, columns = [\"coeficientes\"], index = nomes_atributos)"
      ],
      "metadata": {
        "id": "1Oy76hDzE7MS"
      },
      "execution_count": null,
      "outputs": []
    },
    {
      "cell_type": "code",
      "source": [
        "coefs = coefs.sort_values(by=\"coeficientes\", ascending=False)"
      ],
      "metadata": {
        "id": "G2mDHUfeFqWL"
      },
      "execution_count": null,
      "outputs": []
    },
    {
      "cell_type": "code",
      "source": [
        "coefs.plot.barh(figsize=(8,6))\n",
        "plt.axvline(x=0, color=\"red\")"
      ],
      "metadata": {
        "colab": {
          "base_uri": "https://localhost:8080/",
          "height": 539
        },
        "id": "vRs_l7V-GUuf",
        "outputId": "ca6b0c8f-7a32-4c77-b27b-a9c4641ff32d"
      },
      "execution_count": null,
      "outputs": [
        {
          "output_type": "execute_result",
          "data": {
            "text/plain": [
              "<matplotlib.lines.Line2D at 0x7a1212ae6310>"
            ]
          },
          "metadata": {},
          "execution_count": 66
        },
        {
          "output_type": "display_data",
          "data": {
            "text/plain": [
              "<Figure size 800x600 with 1 Axes>"
            ],
            "image/png": "[encoded data removed]"
          },
          "metadata": {}
        }
      ]
    },
    {
      "cell_type": "code",
      "source": [],
      "metadata": {
        "id": "Q_RtqJWYHDtw"
      },
      "execution_count": null,
      "outputs": []
    }
  ]
}